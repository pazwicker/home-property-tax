{
 "cells": [
  {
   "cell_type": "code",
   "execution_count": 2,
   "metadata": {},
   "outputs": [],
   "source": [
    "import pandas as pd\n",
    "import tabula\n",
    "import requests, zipfile, io\n",
    "from sqlalchemy import create_engine"
   ]
  },
  {
   "cell_type": "code",
   "execution_count": 3,
   "metadata": {},
   "outputs": [],
   "source": [
    "# Options\n",
    "pd.set_option('display.max_columns', None)"
   ]
  },
  {
   "cell_type": "code",
   "execution_count": 4,
   "metadata": {},
   "outputs": [],
   "source": [
    "# Variables\n",
    "hcad_hearings_data_url = 'https://download.hcad.org/data/CAMA/'\n",
    "hcad_real_property_data_url = 'https://download.hcad.org/data/CAMA/'\n",
    "arb_hearing_data_path = r\"/Users/paz/Documents/github/home-property-tax/wickersham/tax_year_2023/doc/arb_hearing_data/extracted_files_\"\n",
    "real_property_data_path = r\"/Users/paz/Documents/github/home-property-tax/wickersham/tax_year_2023/doc/real_acct_data/extracted_files_\"\n",
    "zwicker_account_id = '931920000058'"
   ]
  },
  {
   "cell_type": "code",
   "execution_count": 5,
   "metadata": {},
   "outputs": [],
   "source": [
    "# database\n",
    "engine = create_engine('sqlite:////Users/paz/Documents/github/home-property-tax/wickersham/tax_year_2023/database/home_property_tax.db')"
   ]
  },
  {
   "cell_type": "code",
   "execution_count": 6,
   "metadata": {},
   "outputs": [],
   "source": [
    "def download_zip_files(url, file_name, folder_name, start_year, end_year):\n",
    "    for tax_year in range(start_year,end_year + 1):\n",
    "        tax_year_url = f\"{url}{tax_year}/{file_name}.zip\"\n",
    "        print(tax_year_url)\n",
    "        r = requests.get(tax_year_url, stream=True)\n",
    "        z = zipfile.ZipFile(io.BytesIO(r.content))\n",
    "        z.extractall(f'/Users/paz/Documents/github/home-property-tax/wickersham/tax_year_2023/doc/{folder_name}/extracted_files_{tax_year}')\n",
    "\n",
    "def unify_data(path, file_name, start_year, end_year):\n",
    "    df = pd.DataFrame()\n",
    "    for tax_year in range(start_year,end_year + 1):\n",
    "        file_path = f'{path}{tax_year}/{file_name}.txt'\n",
    "        df_temp = pd.read_csv(r'{}'.format(file_path), sep=\"\\t\", encoding = 'latin1', low_memory=False)\n",
    "        df = pd.concat([df_temp, df])\n",
    "        df = df.reset_index(drop=True)\n",
    "        print(f'finished {tax_year}.')\n",
    "    return df"
   ]
  },
  {
   "cell_type": "code",
   "execution_count": 7,
   "metadata": {},
   "outputs": [],
   "source": [
    "# download_zip_files(hcad_hearings_data_url, 'Hearing_files', 'arb_hearing_data', 2005, 2023)"
   ]
  },
  {
   "cell_type": "code",
   "execution_count": 8,
   "metadata": {},
   "outputs": [],
   "source": [
    "# download_zip_files(hcad_real_property_data_url, 'Real_acct_owner', 'real_acct_data', 2005, 2023)"
   ]
  },
  {
   "cell_type": "code",
   "execution_count": 9,
   "metadata": {},
   "outputs": [
    {
     "name": "stdout",
     "output_type": "stream",
     "text": [
      "finished 2005.\n",
      "finished 2006.\n",
      "finished 2007.\n",
      "finished 2008.\n",
      "finished 2009.\n",
      "finished 2010.\n",
      "finished 2011.\n",
      "finished 2012.\n",
      "finished 2013.\n",
      "finished 2014.\n",
      "finished 2015.\n",
      "finished 2016.\n",
      "finished 2017.\n",
      "finished 2018.\n",
      "finished 2019.\n",
      "finished 2020.\n",
      "finished 2021.\n",
      "finished 2022.\n",
      "finished 2023.\n"
     ]
    }
   ],
   "source": [
    "arb_hearings_real_df = unify_data(arb_hearing_data_path, 'arb_hearings_real', 2005, 2023)"
   ]
  },
  {
   "cell_type": "code",
   "execution_count": 10,
   "metadata": {},
   "outputs": [
    {
     "name": "stdout",
     "output_type": "stream",
     "text": [
      "<class 'pandas.core.frame.DataFrame'>\n",
      "RangeIndex: 6239680 entries, 0 to 6239679\n",
      "Data columns (total 15 columns):\n",
      " #   Column                   Dtype         \n",
      "---  ------                   -----         \n",
      " 0   acct                     object        \n",
      " 1   Tax_Year                 object        \n",
      " 2   Real_Personal_Property   object        \n",
      " 3   Hearing_Type             object        \n",
      " 4   State_Class_Code         object        \n",
      " 5   Owner_Name               object        \n",
      " 6   Scheduled_for_Date       datetime64[ns]\n",
      " 7   Actual_Hearing_Date      datetime64[ns]\n",
      " 8   Release_Date             datetime64[ns]\n",
      " 9   Letter_Type              object        \n",
      " 10  Agent_Code               object        \n",
      " 11  Initial_Appraised_Value  float64       \n",
      " 12  Initial_Market_Value     float64       \n",
      " 13  Final_Appraised_Value    float64       \n",
      " 14  Final_Market_Value       float64       \n",
      "dtypes: datetime64[ns](3), float64(4), object(8)\n",
      "memory usage: 714.1+ MB\n"
     ]
    }
   ],
   "source": [
    "arb_hearings_real_df['acct'] = arb_hearings_real_df['acct'].astype(str)\n",
    "arb_hearings_real_df['Tax_Year'] = arb_hearings_real_df['Tax_Year'].astype(str)\n",
    "arb_hearings_real_df['Scheduled_for_Date'] = pd.to_datetime(arb_hearings_real_df['Scheduled_for_Date'], errors='coerce')\n",
    "arb_hearings_real_df['Actual_Hearing_Date'] = pd.to_datetime(arb_hearings_real_df['Actual_Hearing_Date'], errors='coerce')\n",
    "arb_hearings_real_df['Release_Date'] = pd.to_datetime(arb_hearings_real_df['Release_Date'], errors='coerce')\n",
    "arb_hearings_real_df.info()"
   ]
  },
  {
   "cell_type": "code",
   "execution_count": 18,
   "metadata": {},
   "outputs": [
    {
     "name": "stdout",
     "output_type": "stream",
     "text": [
      "finished 2023.\n",
      "loaded data to sqlite for 2023\n"
     ]
    }
   ],
   "source": [
    "for year in range(2023, 2024):\n",
    "    real_acct_df = unify_data(real_property_data_path, 'real_acct', year, year)\n",
    "    real_acct_df['acct'] = real_acct_df['acct'].astype(str)\n",
    "    real_acct_df['yr'] = real_acct_df['yr'].astype(str)\n",
    "    real_acct_df['certified_date'] = pd.to_datetime(real_acct_df['certified_date'], errors='coerce')\n",
    "    real_acct_df['notice_dt'] = pd.to_datetime(real_acct_df['notice_dt'], errors='coerce')\n",
    "    real_acct_df['rev_dt'] = pd.to_datetime(real_acct_df['rev_dt'], errors='coerce')\n",
    "    real_acct_df['new_own_dt'] = pd.to_datetime(real_acct_df['new_own_dt'], errors='coerce')\n",
    "    real_acct_df['splt_dt'] = pd.to_datetime(real_acct_df['splt_dt'], errors='coerce')\n",
    "    real_acct_df.to_sql('real_acct', engine, if_exists='append', index=False)\n",
    "    print(f'loaded data to sqlite for {year}')"
   ]
  },
  {
   "cell_type": "code",
   "execution_count": 13,
   "metadata": {},
   "outputs": [],
   "source": [
    "real_acct_df.loc[real_acct_df['acct'] == zwicker_account_id].head()"
   ]
  },
  {
   "cell_type": "code",
   "execution_count": 15,
   "metadata": {},
   "outputs": [
    {
     "data": {
      "text/plain": [
       "6239680"
      ]
     },
     "execution_count": 15,
     "metadata": {},
     "output_type": "execute_result"
    }
   ],
   "source": [
    "# arb_hearings_real_df.to_sql('arb_hearings_real', engine, if_exists='replace', index=False)"
   ]
  },
  {
   "cell_type": "code",
   "execution_count": null,
   "metadata": {},
   "outputs": [],
   "source": []
  }
 ],
 "metadata": {
  "kernelspec": {
   "display_name": "Python 3",
   "language": "python",
   "name": "python3"
  },
  "language_info": {
   "codemirror_mode": {
    "name": "ipython",
    "version": 3
   },
   "file_extension": ".py",
   "mimetype": "text/x-python",
   "name": "python",
   "nbconvert_exporter": "python",
   "pygments_lexer": "ipython3",
   "version": "3.9.0"
  },
  "orig_nbformat": 4
 },
 "nbformat": 4,
 "nbformat_minor": 2
}
