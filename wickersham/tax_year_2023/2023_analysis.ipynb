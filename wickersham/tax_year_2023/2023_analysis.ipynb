{
 "cells": [
  {
   "cell_type": "code",
   "execution_count": 24,
   "metadata": {},
   "outputs": [],
   "source": [
    "import pandas as pd\n",
    "from sqlalchemy import create_engine\n",
    "import plotly.express as px\n",
    "import duckdb"
   ]
  },
  {
   "cell_type": "code",
   "execution_count": 2,
   "metadata": {},
   "outputs": [],
   "source": [
    "engine = create_engine('sqlite:////Users/paz/Documents/github/home-property-tax/wickersham/tax_year_2023/database/home_property_tax.db')"
   ]
  },
  {
   "attachments": {},
   "cell_type": "markdown",
   "metadata": {},
   "source": [
    "# The Market"
   ]
  },
  {
   "cell_type": "code",
   "execution_count": 109,
   "metadata": {},
   "outputs": [],
   "source": [
    "market_trends_query = '''\n",
    "    select\n",
    "\t\tyr as year,\n",
    "\t\tmax(case when acct = '931920000058' then tot_mkt_val end) as subject_mkt_value,\n",
    "        avg(case when lgl_2 = 'BRIARGROVE PARK SEC 1' then tot_mkt_val end) as legal_description_mkt_value,\n",
    "\t\tavg(case when neighborhood_code = 7947 then tot_mkt_val end) as neighborhood_mkt_value,\n",
    "        avg(case when neighborhood_grp = 1117 then tot_mkt_val end) as neighborhood_group_mkt_value,\n",
    "        avg(case when map_facet = '4956D' then tot_mkt_val end) as map_facet_mkt_value,\n",
    "\t\tavg(tot_mkt_val) as total_market_value\n",
    "\tfrom real_acct ra \n",
    "\twhere TRUE \n",
    "\t\tand state_class = 'A1'\n",
    "\tgroup BY \n",
    "\t\t1\n",
    "\torder BY \n",
    "\t\t1 asc\n",
    "    '''"
   ]
  },
  {
   "cell_type": "code",
   "execution_count": 110,
   "metadata": {},
   "outputs": [],
   "source": [
    "market_trends_df = pd.read_sql_query(market_trends_query, engine)"
   ]
  },
  {
   "cell_type": "code",
   "execution_count": 111,
   "metadata": {},
   "outputs": [
    {
     "data": {
      "application/vnd.plotly.v1+json": {
       "config": {
        "plotlyServerURL": "https://plot.ly"
       },
       "data": [
        {
         "hovertemplate": "variable=subject_mkt_value<br>year=%{x}<br>value=%{y}<extra></extra>",
         "legendgroup": "subject_mkt_value",
         "line": {
          "color": "#1F77B4",
          "dash": "solid"
         },
         "mode": "lines",
         "name": "subject_mkt_value",
         "orientation": "v",
         "showlegend": true,
         "type": "scatter",
         "x": [
          "2005",
          "2006",
          "2007",
          "2008",
          "2009",
          "2010",
          "2011",
          "2012",
          "2013",
          "2014",
          "2015",
          "2016",
          "2017",
          "2018",
          "2019",
          "2020",
          "2021",
          "2022",
          "2023"
         ],
         "xaxis": "x",
         "y": [
          195500,
          217000,
          220000,
          230157,
          224000,
          207172,
          207172,
          207172,
          245000,
          292216,
          324000,
          356000,
          338358,
          338358,
          397000,
          402023,
          414458,
          652735,
          715818
         ],
         "yaxis": "y"
        },
        {
         "hovertemplate": "variable=legal_description_mkt_value<br>year=%{x}<br>value=%{y}<extra></extra>",
         "legendgroup": "legal_description_mkt_value",
         "line": {
          "color": "#FF7F0E",
          "dash": "solid"
         },
         "mode": "lines",
         "name": "legal_description_mkt_value",
         "orientation": "v",
         "showlegend": true,
         "type": "scatter",
         "x": [
          "2005",
          "2006",
          "2007",
          "2008",
          "2009",
          "2010",
          "2011",
          "2012",
          "2013",
          "2014",
          "2015",
          "2016",
          "2017",
          "2018",
          "2019",
          "2020",
          "2021",
          "2022",
          "2023"
         ],
         "xaxis": "x",
         "y": [
          311654.1195028681,
          316876.0629770992,
          332389.30629770993,
          354014.0773638968,
          368558.09064885497,
          356821.52485659654,
          358703.01908396947,
          360901.2287893232,
          388107.6844613918,
          463413.8695238095,
          579055.7485714286,
          576185.8971428572,
          565259.2561904762,
          532427.7900287632,
          562010.4629451395,
          569885.1729468598,
          589833.2065637065,
          669677.9355769231,
          705094.4013474495
         ],
         "yaxis": "y"
        },
        {
         "hovertemplate": "variable=neighborhood_mkt_value<br>year=%{x}<br>value=%{y}<extra></extra>",
         "legendgroup": "neighborhood_mkt_value",
         "line": {
          "color": "#2CA02C",
          "dash": "solid"
         },
         "mode": "lines",
         "name": "neighborhood_mkt_value",
         "orientation": "v",
         "showlegend": true,
         "type": "scatter",
         "x": [
          "2005",
          "2006",
          "2007",
          "2008",
          "2009",
          "2010",
          "2011",
          "2012",
          "2013",
          "2014",
          "2015",
          "2016",
          "2017",
          "2018",
          "2019",
          "2020",
          "2021",
          "2022",
          "2023"
         ],
         "xaxis": "x",
         "y": [
          262182.32467532466,
          285939.53733766236,
          290131.4366883117,
          305867.53658536583,
          308403.8441558442,
          299226.3133116883,
          298964.3198051948,
          299835.19448946515,
          328355.5922330097,
          402242.80258899677,
          496824.05177993525,
          496505.65428109857,
          488683.18093699514,
          484459.6219709208,
          507033.2734627832,
          511321.8772213247,
          517553.0258899676,
          602416.1812297734,
          630859.4846029173
         ],
         "yaxis": "y"
        },
        {
         "hovertemplate": "variable=map_facet_mkt_value<br>year=%{x}<br>value=%{y}<extra></extra>",
         "legendgroup": "map_facet_mkt_value",
         "line": {
          "color": "#D62728",
          "dash": "solid"
         },
         "mode": "lines",
         "name": "map_facet_mkt_value",
         "orientation": "v",
         "showlegend": true,
         "type": "scatter",
         "x": [
          "2005",
          "2006",
          "2007",
          "2008",
          "2009",
          "2010",
          "2011",
          "2012",
          "2013",
          "2014",
          "2015",
          "2016",
          "2017",
          "2018",
          "2019",
          "2020",
          "2021",
          "2022",
          "2023"
         ],
         "xaxis": "x",
         "y": [
          183320.94075829384,
          198755.43468468467,
          222662.74353448275,
          235026.1466395112,
          238612.4776422764,
          230218.64024390245,
          221484.6313645621,
          218001.02240325866,
          227845.9653767821,
          277093.7739307536,
          331223.5600814664,
          327522.3069105691,
          327076.51016260165,
          327158.3780487805,
          332047.64634146343,
          333200.5894308943,
          344385.05081300816,
          390147.67276422767,
          351498.70331950206
         ],
         "yaxis": "y"
        },
        {
         "hovertemplate": "variable=neighborhood_group_mkt_value<br>year=%{x}<br>value=%{y}<extra></extra>",
         "legendgroup": "neighborhood_group_mkt_value",
         "line": {
          "color": "#9467BD",
          "dash": "solid"
         },
         "mode": "lines",
         "name": "neighborhood_group_mkt_value",
         "orientation": "v",
         "showlegend": true,
         "type": "scatter",
         "x": [
          "2005",
          "2006",
          "2007",
          "2008",
          "2009",
          "2010",
          "2011",
          "2012",
          "2013",
          "2014",
          "2015",
          "2016",
          "2017",
          "2018",
          "2019",
          "2020",
          "2021",
          "2022",
          "2023"
         ],
         "xaxis": "x",
         "y": [
          null,
          null,
          null,
          null,
          null,
          352611.0800593032,
          353649.807549963,
          355376.76923076925,
          384765.9549815498,
          459890.8968312454,
          574805.0029498525,
          572134.6344878408,
          560160.4325718497,
          533592.1190828403,
          558792.514115899,
          566880.7773641102,
          584820.4270833334,
          665617.4387527839,
          700709.8530066815
         ],
         "yaxis": "y"
        },
        {
         "hovertemplate": "variable=total_market_value<br>year=%{x}<br>value=%{y}<extra></extra>",
         "legendgroup": "total_market_value",
         "line": {
          "color": "#8C564B",
          "dash": "solid"
         },
         "mode": "lines",
         "name": "total_market_value",
         "orientation": "v",
         "showlegend": true,
         "type": "scatter",
         "x": [
          "2005",
          "2006",
          "2007",
          "2008",
          "2009",
          "2010",
          "2011",
          "2012",
          "2013",
          "2014",
          "2015",
          "2016",
          "2017",
          "2018",
          "2019",
          "2020",
          "2021",
          "2022",
          "2023"
         ],
         "xaxis": "x",
         "y": [
          147312.53703193442,
          152877.62355220466,
          163026.92823604774,
          172228.50884439965,
          169505.1106906073,
          165548.61797872887,
          164565.39708720177,
          163284.02811156548,
          169045.18711575802,
          194400.5403592528,
          223312.55183889187,
          232959.66885661974,
          240234.77543697847,
          238577.196042405,
          255461.7837298404,
          264741.17213218217,
          280890.7345268087,
          329734.25396011275,
          379814.27813231805
         ],
         "yaxis": "y"
        }
       ],
       "layout": {
        "legend": {
         "title": {
          "text": "variable"
         },
         "tracegroupgap": 0
        },
        "margin": {
         "t": 60
        },
        "template": {
         "data": {
          "bar": [
           {
            "error_x": {
             "color": "rgb(36,36,36)"
            },
            "error_y": {
             "color": "rgb(36,36,36)"
            },
            "marker": {
             "line": {
              "color": "white",
              "width": 0.5
             }
            },
            "type": "bar"
           }
          ],
          "barpolar": [
           {
            "marker": {
             "line": {
              "color": "white",
              "width": 0.5
             }
            },
            "type": "barpolar"
           }
          ],
          "carpet": [
           {
            "aaxis": {
             "endlinecolor": "rgb(36,36,36)",
             "gridcolor": "white",
             "linecolor": "white",
             "minorgridcolor": "white",
             "startlinecolor": "rgb(36,36,36)"
            },
            "baxis": {
             "endlinecolor": "rgb(36,36,36)",
             "gridcolor": "white",
             "linecolor": "white",
             "minorgridcolor": "white",
             "startlinecolor": "rgb(36,36,36)"
            },
            "type": "carpet"
           }
          ],
          "choropleth": [
           {
            "colorbar": {
             "outlinewidth": 1,
             "tickcolor": "rgb(36,36,36)",
             "ticks": "outside"
            },
            "type": "choropleth"
           }
          ],
          "contour": [
           {
            "colorbar": {
             "outlinewidth": 1,
             "tickcolor": "rgb(36,36,36)",
             "ticks": "outside"
            },
            "colorscale": [
             [
              0,
              "#440154"
             ],
             [
              0.1111111111111111,
              "#482878"
             ],
             [
              0.2222222222222222,
              "#3e4989"
             ],
             [
              0.3333333333333333,
              "#31688e"
             ],
             [
              0.4444444444444444,
              "#26828e"
             ],
             [
              0.5555555555555556,
              "#1f9e89"
             ],
             [
              0.6666666666666666,
              "#35b779"
             ],
             [
              0.7777777777777778,
              "#6ece58"
             ],
             [
              0.8888888888888888,
              "#b5de2b"
             ],
             [
              1,
              "#fde725"
             ]
            ],
            "type": "contour"
           }
          ],
          "contourcarpet": [
           {
            "colorbar": {
             "outlinewidth": 1,
             "tickcolor": "rgb(36,36,36)",
             "ticks": "outside"
            },
            "type": "contourcarpet"
           }
          ],
          "heatmap": [
           {
            "colorbar": {
             "outlinewidth": 1,
             "tickcolor": "rgb(36,36,36)",
             "ticks": "outside"
            },
            "colorscale": [
             [
              0,
              "#440154"
             ],
             [
              0.1111111111111111,
              "#482878"
             ],
             [
              0.2222222222222222,
              "#3e4989"
             ],
             [
              0.3333333333333333,
              "#31688e"
             ],
             [
              0.4444444444444444,
              "#26828e"
             ],
             [
              0.5555555555555556,
              "#1f9e89"
             ],
             [
              0.6666666666666666,
              "#35b779"
             ],
             [
              0.7777777777777778,
              "#6ece58"
             ],
             [
              0.8888888888888888,
              "#b5de2b"
             ],
             [
              1,
              "#fde725"
             ]
            ],
            "type": "heatmap"
           }
          ],
          "heatmapgl": [
           {
            "colorbar": {
             "outlinewidth": 1,
             "tickcolor": "rgb(36,36,36)",
             "ticks": "outside"
            },
            "colorscale": [
             [
              0,
              "#440154"
             ],
             [
              0.1111111111111111,
              "#482878"
             ],
             [
              0.2222222222222222,
              "#3e4989"
             ],
             [
              0.3333333333333333,
              "#31688e"
             ],
             [
              0.4444444444444444,
              "#26828e"
             ],
             [
              0.5555555555555556,
              "#1f9e89"
             ],
             [
              0.6666666666666666,
              "#35b779"
             ],
             [
              0.7777777777777778,
              "#6ece58"
             ],
             [
              0.8888888888888888,
              "#b5de2b"
             ],
             [
              1,
              "#fde725"
             ]
            ],
            "type": "heatmapgl"
           }
          ],
          "histogram": [
           {
            "marker": {
             "line": {
              "color": "white",
              "width": 0.6
             }
            },
            "type": "histogram"
           }
          ],
          "histogram2d": [
           {
            "colorbar": {
             "outlinewidth": 1,
             "tickcolor": "rgb(36,36,36)",
             "ticks": "outside"
            },
            "colorscale": [
             [
              0,
              "#440154"
             ],
             [
              0.1111111111111111,
              "#482878"
             ],
             [
              0.2222222222222222,
              "#3e4989"
             ],
             [
              0.3333333333333333,
              "#31688e"
             ],
             [
              0.4444444444444444,
              "#26828e"
             ],
             [
              0.5555555555555556,
              "#1f9e89"
             ],
             [
              0.6666666666666666,
              "#35b779"
             ],
             [
              0.7777777777777778,
              "#6ece58"
             ],
             [
              0.8888888888888888,
              "#b5de2b"
             ],
             [
              1,
              "#fde725"
             ]
            ],
            "type": "histogram2d"
           }
          ],
          "histogram2dcontour": [
           {
            "colorbar": {
             "outlinewidth": 1,
             "tickcolor": "rgb(36,36,36)",
             "ticks": "outside"
            },
            "colorscale": [
             [
              0,
              "#440154"
             ],
             [
              0.1111111111111111,
              "#482878"
             ],
             [
              0.2222222222222222,
              "#3e4989"
             ],
             [
              0.3333333333333333,
              "#31688e"
             ],
             [
              0.4444444444444444,
              "#26828e"
             ],
             [
              0.5555555555555556,
              "#1f9e89"
             ],
             [
              0.6666666666666666,
              "#35b779"
             ],
             [
              0.7777777777777778,
              "#6ece58"
             ],
             [
              0.8888888888888888,
              "#b5de2b"
             ],
             [
              1,
              "#fde725"
             ]
            ],
            "type": "histogram2dcontour"
           }
          ],
          "mesh3d": [
           {
            "colorbar": {
             "outlinewidth": 1,
             "tickcolor": "rgb(36,36,36)",
             "ticks": "outside"
            },
            "type": "mesh3d"
           }
          ],
          "parcoords": [
           {
            "line": {
             "colorbar": {
              "outlinewidth": 1,
              "tickcolor": "rgb(36,36,36)",
              "ticks": "outside"
             }
            },
            "type": "parcoords"
           }
          ],
          "pie": [
           {
            "automargin": true,
            "type": "pie"
           }
          ],
          "scatter": [
           {
            "marker": {
             "colorbar": {
              "outlinewidth": 1,
              "tickcolor": "rgb(36,36,36)",
              "ticks": "outside"
             }
            },
            "type": "scatter"
           }
          ],
          "scatter3d": [
           {
            "line": {
             "colorbar": {
              "outlinewidth": 1,
              "tickcolor": "rgb(36,36,36)",
              "ticks": "outside"
             }
            },
            "marker": {
             "colorbar": {
              "outlinewidth": 1,
              "tickcolor": "rgb(36,36,36)",
              "ticks": "outside"
             }
            },
            "type": "scatter3d"
           }
          ],
          "scattercarpet": [
           {
            "marker": {
             "colorbar": {
              "outlinewidth": 1,
              "tickcolor": "rgb(36,36,36)",
              "ticks": "outside"
             }
            },
            "type": "scattercarpet"
           }
          ],
          "scattergeo": [
           {
            "marker": {
             "colorbar": {
              "outlinewidth": 1,
              "tickcolor": "rgb(36,36,36)",
              "ticks": "outside"
             }
            },
            "type": "scattergeo"
           }
          ],
          "scattergl": [
           {
            "marker": {
             "colorbar": {
              "outlinewidth": 1,
              "tickcolor": "rgb(36,36,36)",
              "ticks": "outside"
             }
            },
            "type": "scattergl"
           }
          ],
          "scattermapbox": [
           {
            "marker": {
             "colorbar": {
              "outlinewidth": 1,
              "tickcolor": "rgb(36,36,36)",
              "ticks": "outside"
             }
            },
            "type": "scattermapbox"
           }
          ],
          "scatterpolar": [
           {
            "marker": {
             "colorbar": {
              "outlinewidth": 1,
              "tickcolor": "rgb(36,36,36)",
              "ticks": "outside"
             }
            },
            "type": "scatterpolar"
           }
          ],
          "scatterpolargl": [
           {
            "marker": {
             "colorbar": {
              "outlinewidth": 1,
              "tickcolor": "rgb(36,36,36)",
              "ticks": "outside"
             }
            },
            "type": "scatterpolargl"
           }
          ],
          "scatterternary": [
           {
            "marker": {
             "colorbar": {
              "outlinewidth": 1,
              "tickcolor": "rgb(36,36,36)",
              "ticks": "outside"
             }
            },
            "type": "scatterternary"
           }
          ],
          "surface": [
           {
            "colorbar": {
             "outlinewidth": 1,
             "tickcolor": "rgb(36,36,36)",
             "ticks": "outside"
            },
            "colorscale": [
             [
              0,
              "#440154"
             ],
             [
              0.1111111111111111,
              "#482878"
             ],
             [
              0.2222222222222222,
              "#3e4989"
             ],
             [
              0.3333333333333333,
              "#31688e"
             ],
             [
              0.4444444444444444,
              "#26828e"
             ],
             [
              0.5555555555555556,
              "#1f9e89"
             ],
             [
              0.6666666666666666,
              "#35b779"
             ],
             [
              0.7777777777777778,
              "#6ece58"
             ],
             [
              0.8888888888888888,
              "#b5de2b"
             ],
             [
              1,
              "#fde725"
             ]
            ],
            "type": "surface"
           }
          ],
          "table": [
           {
            "cells": {
             "fill": {
              "color": "rgb(237,237,237)"
             },
             "line": {
              "color": "white"
             }
            },
            "header": {
             "fill": {
              "color": "rgb(217,217,217)"
             },
             "line": {
              "color": "white"
             }
            },
            "type": "table"
           }
          ]
         },
         "layout": {
          "annotationdefaults": {
           "arrowhead": 0,
           "arrowwidth": 1
          },
          "coloraxis": {
           "colorbar": {
            "outlinewidth": 1,
            "tickcolor": "rgb(36,36,36)",
            "ticks": "outside"
           }
          },
          "colorscale": {
           "diverging": [
            [
             0,
             "rgb(103,0,31)"
            ],
            [
             0.1,
             "rgb(178,24,43)"
            ],
            [
             0.2,
             "rgb(214,96,77)"
            ],
            [
             0.3,
             "rgb(244,165,130)"
            ],
            [
             0.4,
             "rgb(253,219,199)"
            ],
            [
             0.5,
             "rgb(247,247,247)"
            ],
            [
             0.6,
             "rgb(209,229,240)"
            ],
            [
             0.7,
             "rgb(146,197,222)"
            ],
            [
             0.8,
             "rgb(67,147,195)"
            ],
            [
             0.9,
             "rgb(33,102,172)"
            ],
            [
             1,
             "rgb(5,48,97)"
            ]
           ],
           "sequential": [
            [
             0,
             "#440154"
            ],
            [
             0.1111111111111111,
             "#482878"
            ],
            [
             0.2222222222222222,
             "#3e4989"
            ],
            [
             0.3333333333333333,
             "#31688e"
            ],
            [
             0.4444444444444444,
             "#26828e"
            ],
            [
             0.5555555555555556,
             "#1f9e89"
            ],
            [
             0.6666666666666666,
             "#35b779"
            ],
            [
             0.7777777777777778,
             "#6ece58"
            ],
            [
             0.8888888888888888,
             "#b5de2b"
            ],
            [
             1,
             "#fde725"
            ]
           ],
           "sequentialminus": [
            [
             0,
             "#440154"
            ],
            [
             0.1111111111111111,
             "#482878"
            ],
            [
             0.2222222222222222,
             "#3e4989"
            ],
            [
             0.3333333333333333,
             "#31688e"
            ],
            [
             0.4444444444444444,
             "#26828e"
            ],
            [
             0.5555555555555556,
             "#1f9e89"
            ],
            [
             0.6666666666666666,
             "#35b779"
            ],
            [
             0.7777777777777778,
             "#6ece58"
            ],
            [
             0.8888888888888888,
             "#b5de2b"
            ],
            [
             1,
             "#fde725"
            ]
           ]
          },
          "colorway": [
           "#1F77B4",
           "#FF7F0E",
           "#2CA02C",
           "#D62728",
           "#9467BD",
           "#8C564B",
           "#E377C2",
           "#7F7F7F",
           "#BCBD22",
           "#17BECF"
          ],
          "font": {
           "color": "rgb(36,36,36)"
          },
          "geo": {
           "bgcolor": "white",
           "lakecolor": "white",
           "landcolor": "white",
           "showlakes": true,
           "showland": true,
           "subunitcolor": "white"
          },
          "hoverlabel": {
           "align": "left"
          },
          "hovermode": "closest",
          "mapbox": {
           "style": "light"
          },
          "paper_bgcolor": "white",
          "plot_bgcolor": "white",
          "polar": {
           "angularaxis": {
            "gridcolor": "rgb(232,232,232)",
            "linecolor": "rgb(36,36,36)",
            "showgrid": false,
            "showline": true,
            "ticks": "outside"
           },
           "bgcolor": "white",
           "radialaxis": {
            "gridcolor": "rgb(232,232,232)",
            "linecolor": "rgb(36,36,36)",
            "showgrid": false,
            "showline": true,
            "ticks": "outside"
           }
          },
          "scene": {
           "xaxis": {
            "backgroundcolor": "white",
            "gridcolor": "rgb(232,232,232)",
            "gridwidth": 2,
            "linecolor": "rgb(36,36,36)",
            "showbackground": true,
            "showgrid": false,
            "showline": true,
            "ticks": "outside",
            "zeroline": false,
            "zerolinecolor": "rgb(36,36,36)"
           },
           "yaxis": {
            "backgroundcolor": "white",
            "gridcolor": "rgb(232,232,232)",
            "gridwidth": 2,
            "linecolor": "rgb(36,36,36)",
            "showbackground": true,
            "showgrid": false,
            "showline": true,
            "ticks": "outside",
            "zeroline": false,
            "zerolinecolor": "rgb(36,36,36)"
           },
           "zaxis": {
            "backgroundcolor": "white",
            "gridcolor": "rgb(232,232,232)",
            "gridwidth": 2,
            "linecolor": "rgb(36,36,36)",
            "showbackground": true,
            "showgrid": false,
            "showline": true,
            "ticks": "outside",
            "zeroline": false,
            "zerolinecolor": "rgb(36,36,36)"
           }
          },
          "shapedefaults": {
           "fillcolor": "black",
           "line": {
            "width": 0
           },
           "opacity": 0.3
          },
          "ternary": {
           "aaxis": {
            "gridcolor": "rgb(232,232,232)",
            "linecolor": "rgb(36,36,36)",
            "showgrid": false,
            "showline": true,
            "ticks": "outside"
           },
           "baxis": {
            "gridcolor": "rgb(232,232,232)",
            "linecolor": "rgb(36,36,36)",
            "showgrid": false,
            "showline": true,
            "ticks": "outside"
           },
           "bgcolor": "white",
           "caxis": {
            "gridcolor": "rgb(232,232,232)",
            "linecolor": "rgb(36,36,36)",
            "showgrid": false,
            "showline": true,
            "ticks": "outside"
           }
          },
          "title": {
           "x": 0.05
          },
          "xaxis": {
           "automargin": true,
           "gridcolor": "rgb(232,232,232)",
           "linecolor": "rgb(36,36,36)",
           "showgrid": false,
           "showline": true,
           "ticks": "outside",
           "title": {
            "standoff": 15
           },
           "zeroline": false,
           "zerolinecolor": "rgb(36,36,36)"
          },
          "yaxis": {
           "automargin": true,
           "gridcolor": "rgb(232,232,232)",
           "linecolor": "rgb(36,36,36)",
           "showgrid": false,
           "showline": true,
           "ticks": "outside",
           "title": {
            "standoff": 15
           },
           "zeroline": false,
           "zerolinecolor": "rgb(36,36,36)"
          }
         }
        },
        "xaxis": {
         "anchor": "y",
         "domain": [
          0,
          1
         ],
         "title": {
          "text": "year"
         }
        },
        "yaxis": {
         "anchor": "x",
         "domain": [
          0,
          1
         ],
         "title": {
          "text": "value"
         }
        }
       }
      }
     },
     "metadata": {},
     "output_type": "display_data"
    }
   ],
   "source": [
    "fig = px.line(market_trends_df, x='year', y=['subject_mkt_value','legal_description_mkt_value','neighborhood_mkt_value','map_facet_mkt_value', 'neighborhood_group_mkt_value', 'total_market_value'], template='simple_white')\n",
    "fig.show()"
   ]
  },
  {
   "attachments": {},
   "cell_type": "markdown",
   "metadata": {},
   "source": [
    "# The Neighborhood"
   ]
  },
  {
   "cell_type": "code",
   "execution_count": 176,
   "metadata": {},
   "outputs": [],
   "source": [
    "neighborhood_query = '''\n",
    "    select\n",
    "        acct as account,\n",
    "        yr as year,\n",
    "        neighborhood_code,\n",
    "        lgl_2 as neighborhood,\n",
    "        neighborhood_grp as neighborhood_group,\n",
    "        map_facet,\n",
    "        site_addr_1 as street_address,\n",
    "        site_addr_3 as zipcode,\n",
    "        tot_mkt_val as market_value,\n",
    "        prior_tot_mkt_val as prior_market_value,\n",
    "        tot_mkt_val - prior_tot_mkt_val as change_in_market_value,\n",
    "        tot_mkt_val / prior_tot_mkt_val - 1 as pct_change_in_market_value,\n",
    "    from real_acct\n",
    "    where\n",
    "        true\n",
    "        and state_class = 'A1'\n",
    "        and coalesce(new_construction_val,0) = 0\n",
    "        and yr = '2023'\n",
    "        and neighborhood_grp = 1117\n",
    "'''"
   ]
  },
  {
   "cell_type": "code",
   "execution_count": null,
   "metadata": {},
   "outputs": [],
   "source": []
  },
  {
   "attachments": {},
   "cell_type": "markdown",
   "metadata": {},
   "source": [
    "# Remodeling"
   ]
  },
  {
   "cell_type": "code",
   "execution_count": 144,
   "metadata": {},
   "outputs": [],
   "source": [
    "remodeling_query = '''\n",
    "    with cte_2022 as (\n",
    "        select\n",
    "            acct as account,\n",
    "            yr as year,\n",
    "            neighborhood_code,\n",
    "            lgl_2 as neighborhood,\n",
    "            neighborhood_grp as neighborhood_group,\n",
    "            map_facet,\n",
    "            site_addr_1 as street_address,\n",
    "            site_addr_3 as zipcode,\n",
    "            tot_mkt_val as market_value,\n",
    "            prior_tot_mkt_val as prior_market_value,\n",
    "            new_construction_val as new_construction_value,\n",
    "            tot_mkt_val - prior_tot_mkt_val as change_in_market_value,\n",
    "            tot_mkt_val / prior_tot_mkt_val - 1 as pct_change_in_market_value,\n",
    "            new_construction_val / prior_tot_mkt_val as new_construction_pct_total_prior_market_value,\n",
    "            new_construction_val / (tot_mkt_val - prior_tot_mkt_val) as new_construction_pct_change_in_market_value\n",
    "        from real_acct\n",
    "        where\n",
    "            true\n",
    "            and state_class = 'A1'\n",
    "            and new_construction_val > 20000\n",
    "            and prior_market_value between 250000 and 700000\n",
    "            and yr = '2022'\n",
    "    ),\n",
    "    cte_2023 as (\n",
    "        SELECT \n",
    "            acct,\n",
    "            tot_mkt_val\n",
    "        from\n",
    "            real_acct ra \n",
    "            inner join cte_2022 on cte_2022.account = ra.acct\n",
    "        WHERE\n",
    "            yr = '2023'\n",
    "    )\n",
    "    SELECT \n",
    "        cte_2022.*,\n",
    "        cte_2023.tot_mkt_val as next_market_value,\n",
    "        cte_2023.tot_mkt_val / cte_2022.market_value - 1 as next_market_value_pct_change\n",
    "    from cte_2022\n",
    "        left join cte_2023 on cte_2023.acct = cte_2022.account\n",
    "'''"
   ]
  },
  {
   "cell_type": "code",
   "execution_count": 145,
   "metadata": {},
   "outputs": [],
   "source": [
    "remodeling_df = pd.read_sql_query(remodeling_query, engine)"
   ]
  },
  {
   "cell_type": "code",
   "execution_count": 146,
   "metadata": {},
   "outputs": [],
   "source": [
    "# remodeling_df_filtered = remodeling_df.loc[remodeling_df['neighborhood_code'].isin([7946, 7947, 7946.03])]\n",
    "remodeling_df_filtered = remodeling_df.loc[remodeling_df['neighborhood_group'].isin([1117])]"
   ]
  },
  {
   "cell_type": "code",
   "execution_count": 147,
   "metadata": {},
   "outputs": [
    {
     "data": {
      "application/vnd.plotly.v1+json": {
       "config": {
        "plotlyServerURL": "https://plot.ly"
       },
       "data": [
        {
         "alignmentgroup": "True",
         "bingroup": "x",
         "hovertemplate": "next_market_value_pct_change=%{x}<br>count=%{y}<extra></extra>",
         "legendgroup": "",
         "marker": {
          "color": "#636efa"
         },
         "name": "",
         "offsetgroup": "",
         "orientation": "v",
         "showlegend": false,
         "type": "histogram",
         "x": [
          0.0966441205083226,
          0.06568560215830166,
          0.2152630296278244,
          0.16710645550151715,
          0.06383597763331372,
          null,
          0.10326864506326983,
          0.6166093520054106,
          0.793194829498771,
          0.049937554448035604,
          0.0999380635077669,
          0.3894507899654267,
          0.2450379182156135,
          0.30732210526315784,
          0.1941346153846153,
          0.031386117203670016,
          0.011756111467464914,
          0.732572894185048,
          0.060183152760421965,
          0.02738005526249676,
          0.0397609890109889,
          0.02827611683373843,
          0.03727148549159254,
          -0.010511217638884074,
          0.0725523568076143,
          0.07441778122965514,
          0.011167643808925432,
          0.035294209684296085,
          0.032385209264526704
         ],
         "xaxis": "x",
         "yaxis": "y"
        },
        {
         "alignmentgroup": "True",
         "customdata": [
          [
           "931920000058",
           "2022",
           7947,
           "BRIARGROVE PARK SEC 1",
           1117,
           "4956D",
           "10027 WICKERSHAM LN",
           "77042",
           652735,
           414458,
           174829,
           238277,
           0.5749122950938335,
           0.42182561321050627,
           0.7337216768718761,
           715818,
           0.0966441205083226
          ],
          [
           "931930000073",
           "2022",
           7947,
           "BRIARGROVE PARK SEC 1",
           1117,
           "4956B",
           "10034 WICKERSHAM LN",
           "77042",
           662002,
           481146,
           148397,
           180856,
           0.37588590573339475,
           0.3084240542371754,
           0.8205257221214668,
           705486,
           0.06568560215830166
          ],
          [
           "931950000137",
           "2022",
           7947,
           "BRIARGROVE PARK SEC 1",
           1117,
           "4956B",
           "10023 PIPING ROCK LN",
           "77042",
           574460,
           470644,
           21130,
           103816,
           0.22058286093097967,
           0.04489592983231487,
           0.20353317407721352,
           698120,
           0.2152630296278244
          ],
          [
           "931960000161",
           "2022",
           7947,
           "BRIARGROVE PARK SEC 1",
           1117,
           "4956B",
           "10031 BURGOYNE RD",
           "77042",
           601425,
           498461,
           78933,
           102964,
           0.20656380338682467,
           0.1583534118015251,
           0.7666077463967989,
           701927,
           0.16710645550151715
          ],
          [
           "931980000244",
           "2022",
           7947,
           "BRIARGROVE PARK SEC 1",
           1117,
           "4956B",
           "10019 OLYMPIA DR",
           "77042",
           659910,
           501501,
           109277,
           158409,
           0.31586975898353153,
           0.21789986460645144,
           0.6898408550019254,
           702036,
           0.06383597763331372
          ],
          [
           "931980000252",
           "2022",
           7947,
           "BRIARGROVE PARK SEC 1",
           1117,
           "4956B",
           "1903 BRIARPARK DR",
           "77042",
           950000,
           380000,
           559062,
           570000,
           1.5,
           1.4712157894736841,
           0.9808105263157895,
           null,
           null
          ],
          [
           "931980000265",
           "2022",
           7947,
           "BRIARGROVE PARK SEC 1",
           1117,
           "4956B",
           "1511 BRIARPARK DR",
           "77042",
           710845,
           521426,
           36543,
           189419,
           0.3632711065424432,
           0.07008281136728893,
           0.1929215126254494,
           784253,
           0.10326864506326983
          ],
          [
           "932100000533",
           "2022",
           7946,
           "BRIARGROVE PARK SEC 1",
           1117,
           "4956B",
           "10018 LONGMONT DR",
           "77042",
           663879,
           410805,
           253074,
           253074,
           0.6160441085186403,
           0.6160441085186402,
           1,
           1073233,
           0.6166093520054106
          ],
          [
           "932100000549",
           "2022",
           7946,
           "BRIARGROVE PARK SEC 1",
           1117,
           "4957D",
           "10015 VALLEY FORGE DR",
           "77042",
           604893,
           410153,
           180883,
           194740,
           0.4747984288789793,
           0.4410134754591579,
           0.9288435863202218,
           1084691,
           0.793194829498771
          ],
          [
           "932140000673",
           "2022",
           7946,
           "BRIARGROVE PARK SEC 1",
           1117,
           "4957D",
           "10003 HOLLY SPRINGS DR",
           "77042",
           847138,
           629853,
           214299,
           217285,
           0.3449773201048498,
           0.3402365313811318,
           0.9862576800055227,
           889442,
           0.049937554448035604
          ],
          [
           "932170000737",
           "2022",
           7946,
           "BRIARGROVE PARK SEC 1",
           1117,
           "4957D",
           "10030 PINE FOREST RD",
           "77042",
           721707,
           575596,
           44885,
           146111,
           0.2538429731964782,
           0.07798004155692534,
           0.30719795224178875,
           793833,
           0.0999380635077669
          ],
          [
           "932180000766",
           "2022",
           7946,
           "BRIARGROVE PARK SEC 1",
           1117,
           "4957D",
           "10030 GREEN TREE RD",
           "77042",
           946687,
           368496,
           486067,
           578191,
           1.569056380530589,
           1.3190563805305893,
           0.840668567999156,
           1315375,
           0.3894507899654267
          ],
          [
           "932180000769",
           "2022",
           7946,
           "BRIARGROVE PARK SEC 1",
           1117,
           "4957D",
           "10110 GREEN TREE RD",
           "77042",
           1345000,
           528234,
           779035,
           816766,
           1.546220046418822,
           1.4747914749902504,
           0.9538043944042724,
           1674576,
           0.2450379182156135
          ],
          [
           "932180000789",
           "2022",
           7946,
           "BRIARGROVE PARK SEC 1",
           1117,
           "4957D",
           "10003 BAYOU GLEN RD",
           "77042",
           950000,
           658890,
           416750,
           291110,
           0.44181881649440724,
           0.6325031492358361,
           1.4315894335474564,
           1241956,
           0.30732210526315784
          ],
          [
           "932190000793",
           "2022",
           7946,
           "BRIARGROVE PARK SEC 1",
           1117,
           "4957D",
           "10118 SHADY RIVER DR",
           "77042",
           988000,
           681110,
           344843,
           306890,
           0.4505733288308791,
           0.5062956057024562,
           1.1236697187917495,
           1179805,
           0.1941346153846153
          ],
          [
           "932200000821",
           "2022",
           7946,
           "BRIARGROVE PARK SEC 1",
           1117,
           "4957D",
           "10019 BRIAR DR",
           "77042",
           841646,
           437427,
           277189,
           404219,
           0.9240833327618094,
           0.6336805912758015,
           0.6857396609263791,
           868062,
           0.031386117203670016
          ],
          [
           "932230000928",
           "2022",
           7946.03,
           "BRIARGROVE PARK SEC 1",
           1117,
           "4957C",
           "314 BRIAR HILL DR",
           "77042",
           561240,
           508362,
           63879,
           52878,
           0.10401642923743326,
           0.12565652035360628,
           1.2080449336207875,
           567838,
           0.011756111467464914
          ],
          [
           "932250000954",
           "2022",
           7946,
           "BRIARGROVE PARK SEC 1",
           1117,
           "4957D",
           "10219 SHADY RIVER DR",
           "77042",
           814091,
           657000,
           329688,
           157091,
           0.23910350076103493,
           0.5018082191780822,
           2.0987071188037505,
           1410472,
           0.732572894185048
          ],
          [
           "932270000018",
           "2022",
           7946,
           "BRIARGROVE PARK SEC 1",
           1117,
           "4957D",
           "10227 PINE FOREST RD",
           "77042",
           1009103,
           597757,
           560034,
           411346,
           0.6881491977509255,
           0.9368924161490372,
           1.361466988860959,
           1069834,
           0.060183152760421965
          ],
          [
           "932280000040",
           "2022",
           7946,
           "BRIARGROVE PARK SEC 1",
           1117,
           "4957C",
           "10331 CANDLEWOOD DR",
           "77042",
           796200,
           520000,
           85466,
           276200,
           0.5311538461538461,
           0.16435769230769232,
           0.30943519188993485,
           818000,
           0.02738005526249676
          ],
          [
           "982410000004",
           "2022",
           7946,
           "BRIARGROVE PARK SEC 3",
           1117,
           "4957D",
           "10106 LYNBROOK HOLLOW ST",
           "77042",
           728000,
           570000,
           22992,
           158000,
           0.2771929824561403,
           0.04033684210526316,
           0.14551898734177215,
           756946,
           0.0397609890109889
          ],
          [
           "982410000005",
           "2022",
           7946,
           "BRIARGROVE PARK SEC 3",
           1117,
           "4957D",
           "10102 LYNBROOK HOLLOW ST",
           "77042",
           795866,
           638717,
           129137,
           157149,
           0.24603854289145266,
           0.20218187397548523,
           0.8217487861838129,
           818370,
           0.02827611683373843
          ],
          [
           "1034840000421",
           "2022",
           7946,
           "BRIARGROVE PARK SEC 4",
           1117,
           "4956B",
           "10111 CEDAR CREEK DR",
           "77042",
           916572,
           658831,
           222848,
           257741,
           0.3912095818199204,
           0.3382475930853284,
           0.8646199091335875,
           950734,
           0.03727148549159254
          ],
          [
           "1034910001289",
           "2022",
           7947,
           "BRIARGROVE PARK SEC 4",
           1117,
           "4956B",
           "10106 OLYMPIA DR",
           "77042",
           605163,
           535039,
           25919,
           70124,
           0.13106334304602085,
           0.048443197598679724,
           0.36961667902572587,
           598802,
           -0.010511217638884074
          ],
          [
           "1034940001200",
           "2022",
           7947,
           "BRIARGROVE PARK SEC 4",
           1117,
           "4956B",
           "10214 MEADOW LAKE LN",
           "77042",
           732092,
           566000,
           22986,
           166092,
           0.2934487632508833,
           0.0406113074204947,
           0.1383931796835489,
           785207,
           0.0725523568076143
          ],
          [
           "1034940001210",
           "2022",
           7947,
           "BRIARGROVE PARK SEC 4",
           1117,
           "4956B",
           "10203 MEADOW LAKE LN",
           "77042",
           700424,
           514080,
           56429,
           186344,
           0.3624805477746653,
           0.10976696234049176,
           0.3028216631606062,
           752548,
           0.07441778122965514
          ],
          [
           "1034940001235",
           "2022",
           7947,
           "BRIARGROVE PARK SEC 4",
           1117,
           "4956B",
           "10215 PIPING ROCK LN",
           "77042",
           627169,
           501924,
           31616,
           125245,
           0.2495298092938374,
           0.06298961595779441,
           0.2524332308674997,
           634173,
           0.011167643808925432
          ],
          [
           "1043460001336",
           "2022",
           7946,
           "BRIARGROVE PARK SEC 5",
           1117,
           "4957C",
           "10330 LYNBROOK HOLLOW ST",
           "77042",
           766953,
           639189,
           29026,
           127764,
           0.1998845411920418,
           0.04541066883191044,
           0.22718449641526564,
           794022,
           0.035294209684296085
          ],
          [
           "1075870001108",
           "2022",
           7946,
           "BRIARGROVE PARK SEC 6",
           1117,
           "4956B",
           "10219 CEDAR CREEK DR",
           "77042",
           738300,
           550396,
           164679,
           187904,
           0.3413978299260896,
           0.2992009389603122,
           0.8763996508855586,
           762210,
           0.032385209264526704
          ]
         ],
         "hovertemplate": "next_market_value_pct_change=%{customdata[16]}<br>account=%{customdata[0]}<br>year=%{customdata[1]}<br>neighborhood_code=%{customdata[2]}<br>neighborhood=%{customdata[3]}<br>neighborhood_group=%{customdata[4]}<br>map_facet=%{customdata[5]}<br>street_address=%{customdata[6]}<br>zipcode=%{customdata[7]}<br>market_value=%{customdata[8]}<br>prior_market_value=%{customdata[9]}<br>new_construction_value=%{customdata[10]}<br>change_in_market_value=%{customdata[11]}<br>pct_change_in_market_value=%{customdata[12]}<br>new_construction_pct_total_prior_market_value=%{customdata[13]}<br>new_construction_pct_change_in_market_value=%{customdata[14]}<br>next_market_value=%{customdata[15]}<extra></extra>",
         "legendgroup": "",
         "marker": {
          "color": "#636efa"
         },
         "name": "",
         "notched": true,
         "offsetgroup": "",
         "showlegend": false,
         "type": "box",
         "x": [
          0.0966441205083226,
          0.06568560215830166,
          0.2152630296278244,
          0.16710645550151715,
          0.06383597763331372,
          null,
          0.10326864506326983,
          0.6166093520054106,
          0.793194829498771,
          0.049937554448035604,
          0.0999380635077669,
          0.3894507899654267,
          0.2450379182156135,
          0.30732210526315784,
          0.1941346153846153,
          0.031386117203670016,
          0.011756111467464914,
          0.732572894185048,
          0.060183152760421965,
          0.02738005526249676,
          0.0397609890109889,
          0.02827611683373843,
          0.03727148549159254,
          -0.010511217638884074,
          0.0725523568076143,
          0.07441778122965514,
          0.011167643808925432,
          0.035294209684296085,
          0.032385209264526704
         ],
         "xaxis": "x2",
         "yaxis": "y2"
        }
       ],
       "layout": {
        "barmode": "relative",
        "legend": {
         "tracegroupgap": 0
        },
        "margin": {
         "t": 60
        },
        "template": {
         "data": {
          "bar": [
           {
            "error_x": {
             "color": "#2a3f5f"
            },
            "error_y": {
             "color": "#2a3f5f"
            },
            "marker": {
             "line": {
              "color": "#E5ECF6",
              "width": 0.5
             }
            },
            "type": "bar"
           }
          ],
          "barpolar": [
           {
            "marker": {
             "line": {
              "color": "#E5ECF6",
              "width": 0.5
             }
            },
            "type": "barpolar"
           }
          ],
          "carpet": [
           {
            "aaxis": {
             "endlinecolor": "#2a3f5f",
             "gridcolor": "white",
             "linecolor": "white",
             "minorgridcolor": "white",
             "startlinecolor": "#2a3f5f"
            },
            "baxis": {
             "endlinecolor": "#2a3f5f",
             "gridcolor": "white",
             "linecolor": "white",
             "minorgridcolor": "white",
             "startlinecolor": "#2a3f5f"
            },
            "type": "carpet"
           }
          ],
          "choropleth": [
           {
            "colorbar": {
             "outlinewidth": 0,
             "ticks": ""
            },
            "type": "choropleth"
           }
          ],
          "contour": [
           {
            "colorbar": {
             "outlinewidth": 0,
             "ticks": ""
            },
            "colorscale": [
             [
              0,
              "#0d0887"
             ],
             [
              0.1111111111111111,
              "#46039f"
             ],
             [
              0.2222222222222222,
              "#7201a8"
             ],
             [
              0.3333333333333333,
              "#9c179e"
             ],
             [
              0.4444444444444444,
              "#bd3786"
             ],
             [
              0.5555555555555556,
              "#d8576b"
             ],
             [
              0.6666666666666666,
              "#ed7953"
             ],
             [
              0.7777777777777778,
              "#fb9f3a"
             ],
             [
              0.8888888888888888,
              "#fdca26"
             ],
             [
              1,
              "#f0f921"
             ]
            ],
            "type": "contour"
           }
          ],
          "contourcarpet": [
           {
            "colorbar": {
             "outlinewidth": 0,
             "ticks": ""
            },
            "type": "contourcarpet"
           }
          ],
          "heatmap": [
           {
            "colorbar": {
             "outlinewidth": 0,
             "ticks": ""
            },
            "colorscale": [
             [
              0,
              "#0d0887"
             ],
             [
              0.1111111111111111,
              "#46039f"
             ],
             [
              0.2222222222222222,
              "#7201a8"
             ],
             [
              0.3333333333333333,
              "#9c179e"
             ],
             [
              0.4444444444444444,
              "#bd3786"
             ],
             [
              0.5555555555555556,
              "#d8576b"
             ],
             [
              0.6666666666666666,
              "#ed7953"
             ],
             [
              0.7777777777777778,
              "#fb9f3a"
             ],
             [
              0.8888888888888888,
              "#fdca26"
             ],
             [
              1,
              "#f0f921"
             ]
            ],
            "type": "heatmap"
           }
          ],
          "heatmapgl": [
           {
            "colorbar": {
             "outlinewidth": 0,
             "ticks": ""
            },
            "colorscale": [
             [
              0,
              "#0d0887"
             ],
             [
              0.1111111111111111,
              "#46039f"
             ],
             [
              0.2222222222222222,
              "#7201a8"
             ],
             [
              0.3333333333333333,
              "#9c179e"
             ],
             [
              0.4444444444444444,
              "#bd3786"
             ],
             [
              0.5555555555555556,
              "#d8576b"
             ],
             [
              0.6666666666666666,
              "#ed7953"
             ],
             [
              0.7777777777777778,
              "#fb9f3a"
             ],
             [
              0.8888888888888888,
              "#fdca26"
             ],
             [
              1,
              "#f0f921"
             ]
            ],
            "type": "heatmapgl"
           }
          ],
          "histogram": [
           {
            "marker": {
             "colorbar": {
              "outlinewidth": 0,
              "ticks": ""
             }
            },
            "type": "histogram"
           }
          ],
          "histogram2d": [
           {
            "colorbar": {
             "outlinewidth": 0,
             "ticks": ""
            },
            "colorscale": [
             [
              0,
              "#0d0887"
             ],
             [
              0.1111111111111111,
              "#46039f"
             ],
             [
              0.2222222222222222,
              "#7201a8"
             ],
             [
              0.3333333333333333,
              "#9c179e"
             ],
             [
              0.4444444444444444,
              "#bd3786"
             ],
             [
              0.5555555555555556,
              "#d8576b"
             ],
             [
              0.6666666666666666,
              "#ed7953"
             ],
             [
              0.7777777777777778,
              "#fb9f3a"
             ],
             [
              0.8888888888888888,
              "#fdca26"
             ],
             [
              1,
              "#f0f921"
             ]
            ],
            "type": "histogram2d"
           }
          ],
          "histogram2dcontour": [
           {
            "colorbar": {
             "outlinewidth": 0,
             "ticks": ""
            },
            "colorscale": [
             [
              0,
              "#0d0887"
             ],
             [
              0.1111111111111111,
              "#46039f"
             ],
             [
              0.2222222222222222,
              "#7201a8"
             ],
             [
              0.3333333333333333,
              "#9c179e"
             ],
             [
              0.4444444444444444,
              "#bd3786"
             ],
             [
              0.5555555555555556,
              "#d8576b"
             ],
             [
              0.6666666666666666,
              "#ed7953"
             ],
             [
              0.7777777777777778,
              "#fb9f3a"
             ],
             [
              0.8888888888888888,
              "#fdca26"
             ],
             [
              1,
              "#f0f921"
             ]
            ],
            "type": "histogram2dcontour"
           }
          ],
          "mesh3d": [
           {
            "colorbar": {
             "outlinewidth": 0,
             "ticks": ""
            },
            "type": "mesh3d"
           }
          ],
          "parcoords": [
           {
            "line": {
             "colorbar": {
              "outlinewidth": 0,
              "ticks": ""
             }
            },
            "type": "parcoords"
           }
          ],
          "pie": [
           {
            "automargin": true,
            "type": "pie"
           }
          ],
          "scatter": [
           {
            "marker": {
             "colorbar": {
              "outlinewidth": 0,
              "ticks": ""
             }
            },
            "type": "scatter"
           }
          ],
          "scatter3d": [
           {
            "line": {
             "colorbar": {
              "outlinewidth": 0,
              "ticks": ""
             }
            },
            "marker": {
             "colorbar": {
              "outlinewidth": 0,
              "ticks": ""
             }
            },
            "type": "scatter3d"
           }
          ],
          "scattercarpet": [
           {
            "marker": {
             "colorbar": {
              "outlinewidth": 0,
              "ticks": ""
             }
            },
            "type": "scattercarpet"
           }
          ],
          "scattergeo": [
           {
            "marker": {
             "colorbar": {
              "outlinewidth": 0,
              "ticks": ""
             }
            },
            "type": "scattergeo"
           }
          ],
          "scattergl": [
           {
            "marker": {
             "colorbar": {
              "outlinewidth": 0,
              "ticks": ""
             }
            },
            "type": "scattergl"
           }
          ],
          "scattermapbox": [
           {
            "marker": {
             "colorbar": {
              "outlinewidth": 0,
              "ticks": ""
             }
            },
            "type": "scattermapbox"
           }
          ],
          "scatterpolar": [
           {
            "marker": {
             "colorbar": {
              "outlinewidth": 0,
              "ticks": ""
             }
            },
            "type": "scatterpolar"
           }
          ],
          "scatterpolargl": [
           {
            "marker": {
             "colorbar": {
              "outlinewidth": 0,
              "ticks": ""
             }
            },
            "type": "scatterpolargl"
           }
          ],
          "scatterternary": [
           {
            "marker": {
             "colorbar": {
              "outlinewidth": 0,
              "ticks": ""
             }
            },
            "type": "scatterternary"
           }
          ],
          "surface": [
           {
            "colorbar": {
             "outlinewidth": 0,
             "ticks": ""
            },
            "colorscale": [
             [
              0,
              "#0d0887"
             ],
             [
              0.1111111111111111,
              "#46039f"
             ],
             [
              0.2222222222222222,
              "#7201a8"
             ],
             [
              0.3333333333333333,
              "#9c179e"
             ],
             [
              0.4444444444444444,
              "#bd3786"
             ],
             [
              0.5555555555555556,
              "#d8576b"
             ],
             [
              0.6666666666666666,
              "#ed7953"
             ],
             [
              0.7777777777777778,
              "#fb9f3a"
             ],
             [
              0.8888888888888888,
              "#fdca26"
             ],
             [
              1,
              "#f0f921"
             ]
            ],
            "type": "surface"
           }
          ],
          "table": [
           {
            "cells": {
             "fill": {
              "color": "#EBF0F8"
             },
             "line": {
              "color": "white"
             }
            },
            "header": {
             "fill": {
              "color": "#C8D4E3"
             },
             "line": {
              "color": "white"
             }
            },
            "type": "table"
           }
          ]
         },
         "layout": {
          "annotationdefaults": {
           "arrowcolor": "#2a3f5f",
           "arrowhead": 0,
           "arrowwidth": 1
          },
          "coloraxis": {
           "colorbar": {
            "outlinewidth": 0,
            "ticks": ""
           }
          },
          "colorscale": {
           "diverging": [
            [
             0,
             "#8e0152"
            ],
            [
             0.1,
             "#c51b7d"
            ],
            [
             0.2,
             "#de77ae"
            ],
            [
             0.3,
             "#f1b6da"
            ],
            [
             0.4,
             "#fde0ef"
            ],
            [
             0.5,
             "#f7f7f7"
            ],
            [
             0.6,
             "#e6f5d0"
            ],
            [
             0.7,
             "#b8e186"
            ],
            [
             0.8,
             "#7fbc41"
            ],
            [
             0.9,
             "#4d9221"
            ],
            [
             1,
             "#276419"
            ]
           ],
           "sequential": [
            [
             0,
             "#0d0887"
            ],
            [
             0.1111111111111111,
             "#46039f"
            ],
            [
             0.2222222222222222,
             "#7201a8"
            ],
            [
             0.3333333333333333,
             "#9c179e"
            ],
            [
             0.4444444444444444,
             "#bd3786"
            ],
            [
             0.5555555555555556,
             "#d8576b"
            ],
            [
             0.6666666666666666,
             "#ed7953"
            ],
            [
             0.7777777777777778,
             "#fb9f3a"
            ],
            [
             0.8888888888888888,
             "#fdca26"
            ],
            [
             1,
             "#f0f921"
            ]
           ],
           "sequentialminus": [
            [
             0,
             "#0d0887"
            ],
            [
             0.1111111111111111,
             "#46039f"
            ],
            [
             0.2222222222222222,
             "#7201a8"
            ],
            [
             0.3333333333333333,
             "#9c179e"
            ],
            [
             0.4444444444444444,
             "#bd3786"
            ],
            [
             0.5555555555555556,
             "#d8576b"
            ],
            [
             0.6666666666666666,
             "#ed7953"
            ],
            [
             0.7777777777777778,
             "#fb9f3a"
            ],
            [
             0.8888888888888888,
             "#fdca26"
            ],
            [
             1,
             "#f0f921"
            ]
           ]
          },
          "colorway": [
           "#636efa",
           "#EF553B",
           "#00cc96",
           "#ab63fa",
           "#FFA15A",
           "#19d3f3",
           "#FF6692",
           "#B6E880",
           "#FF97FF",
           "#FECB52"
          ],
          "font": {
           "color": "#2a3f5f"
          },
          "geo": {
           "bgcolor": "white",
           "lakecolor": "white",
           "landcolor": "#E5ECF6",
           "showlakes": true,
           "showland": true,
           "subunitcolor": "white"
          },
          "hoverlabel": {
           "align": "left"
          },
          "hovermode": "closest",
          "mapbox": {
           "style": "light"
          },
          "paper_bgcolor": "white",
          "plot_bgcolor": "#E5ECF6",
          "polar": {
           "angularaxis": {
            "gridcolor": "white",
            "linecolor": "white",
            "ticks": ""
           },
           "bgcolor": "#E5ECF6",
           "radialaxis": {
            "gridcolor": "white",
            "linecolor": "white",
            "ticks": ""
           }
          },
          "scene": {
           "xaxis": {
            "backgroundcolor": "#E5ECF6",
            "gridcolor": "white",
            "gridwidth": 2,
            "linecolor": "white",
            "showbackground": true,
            "ticks": "",
            "zerolinecolor": "white"
           },
           "yaxis": {
            "backgroundcolor": "#E5ECF6",
            "gridcolor": "white",
            "gridwidth": 2,
            "linecolor": "white",
            "showbackground": true,
            "ticks": "",
            "zerolinecolor": "white"
           },
           "zaxis": {
            "backgroundcolor": "#E5ECF6",
            "gridcolor": "white",
            "gridwidth": 2,
            "linecolor": "white",
            "showbackground": true,
            "ticks": "",
            "zerolinecolor": "white"
           }
          },
          "shapedefaults": {
           "line": {
            "color": "#2a3f5f"
           }
          },
          "ternary": {
           "aaxis": {
            "gridcolor": "white",
            "linecolor": "white",
            "ticks": ""
           },
           "baxis": {
            "gridcolor": "white",
            "linecolor": "white",
            "ticks": ""
           },
           "bgcolor": "#E5ECF6",
           "caxis": {
            "gridcolor": "white",
            "linecolor": "white",
            "ticks": ""
           }
          },
          "title": {
           "x": 0.05
          },
          "xaxis": {
           "automargin": true,
           "gridcolor": "white",
           "linecolor": "white",
           "ticks": "",
           "title": {
            "standoff": 15
           },
           "zerolinecolor": "white",
           "zerolinewidth": 2
          },
          "yaxis": {
           "automargin": true,
           "gridcolor": "white",
           "linecolor": "white",
           "ticks": "",
           "title": {
            "standoff": 15
           },
           "zerolinecolor": "white",
           "zerolinewidth": 2
          }
         }
        },
        "xaxis": {
         "anchor": "y",
         "domain": [
          0,
          1
         ],
         "title": {
          "text": "next_market_value_pct_change"
         }
        },
        "xaxis2": {
         "anchor": "y2",
         "domain": [
          0,
          1
         ],
         "matches": "x",
         "showgrid": true,
         "showticklabels": false
        },
        "yaxis": {
         "anchor": "x",
         "domain": [
          0,
          0.8316
         ],
         "title": {
          "text": "count"
         }
        },
        "yaxis2": {
         "anchor": "x2",
         "domain": [
          0.8416,
          1
         ],
         "matches": "y2",
         "showgrid": false,
         "showline": false,
         "showticklabels": false,
         "ticks": ""
        }
       }
      }
     },
     "metadata": {},
     "output_type": "display_data"
    }
   ],
   "source": [
    "fig = px.histogram(remodeling_df_filtered, x=\"next_market_value_pct_change\", marginal=\"box\", hover_data=remodeling_df.columns)\n",
    "fig.show()"
   ]
  },
  {
   "cell_type": "code",
   "execution_count": 148,
   "metadata": {},
   "outputs": [
    {
     "data": {
      "text/html": [
       "<div>\n",
       "<style scoped>\n",
       "    .dataframe tbody tr th:only-of-type {\n",
       "        vertical-align: middle;\n",
       "    }\n",
       "\n",
       "    .dataframe tbody tr th {\n",
       "        vertical-align: top;\n",
       "    }\n",
       "\n",
       "    .dataframe thead th {\n",
       "        text-align: right;\n",
       "    }\n",
       "</style>\n",
       "<table border=\"1\" class=\"dataframe\">\n",
       "  <thead>\n",
       "    <tr style=\"text-align: right;\">\n",
       "      <th></th>\n",
       "      <th>account</th>\n",
       "      <th>year</th>\n",
       "      <th>neighborhood_code</th>\n",
       "      <th>neighborhood</th>\n",
       "      <th>neighborhood_group</th>\n",
       "      <th>map_facet</th>\n",
       "      <th>street_address</th>\n",
       "      <th>zipcode</th>\n",
       "      <th>market_value</th>\n",
       "      <th>prior_market_value</th>\n",
       "      <th>new_construction_value</th>\n",
       "      <th>change_in_market_value</th>\n",
       "      <th>pct_change_in_market_value</th>\n",
       "      <th>new_construction_pct_total_prior_market_value</th>\n",
       "      <th>new_construction_pct_change_in_market_value</th>\n",
       "      <th>next_market_value</th>\n",
       "      <th>next_market_value_pct_change</th>\n",
       "    </tr>\n",
       "  </thead>\n",
       "  <tbody>\n",
       "    <tr>\n",
       "      <th>1883</th>\n",
       "      <td>932180000766</td>\n",
       "      <td>2022</td>\n",
       "      <td>7946.00</td>\n",
       "      <td>BRIARGROVE PARK SEC 1</td>\n",
       "      <td>1117</td>\n",
       "      <td>4957D</td>\n",
       "      <td>10030 GREEN TREE RD</td>\n",
       "      <td>77042</td>\n",
       "      <td>946687.0</td>\n",
       "      <td>368496.0</td>\n",
       "      <td>486067.0</td>\n",
       "      <td>578191.0</td>\n",
       "      <td>1.569056</td>\n",
       "      <td>1.319056</td>\n",
       "      <td>0.840669</td>\n",
       "      <td>1315375.0</td>\n",
       "      <td>0.389451</td>\n",
       "    </tr>\n",
       "    <tr>\n",
       "      <th>1884</th>\n",
       "      <td>932180000769</td>\n",
       "      <td>2022</td>\n",
       "      <td>7946.00</td>\n",
       "      <td>BRIARGROVE PARK SEC 1</td>\n",
       "      <td>1117</td>\n",
       "      <td>4957D</td>\n",
       "      <td>10110 GREEN TREE RD</td>\n",
       "      <td>77042</td>\n",
       "      <td>1345000.0</td>\n",
       "      <td>528234.0</td>\n",
       "      <td>779035.0</td>\n",
       "      <td>816766.0</td>\n",
       "      <td>1.546220</td>\n",
       "      <td>1.474791</td>\n",
       "      <td>0.953804</td>\n",
       "      <td>1674576.0</td>\n",
       "      <td>0.245038</td>\n",
       "    </tr>\n",
       "    <tr>\n",
       "      <th>1877</th>\n",
       "      <td>931980000252</td>\n",
       "      <td>2022</td>\n",
       "      <td>7947.00</td>\n",
       "      <td>BRIARGROVE PARK SEC 1</td>\n",
       "      <td>1117</td>\n",
       "      <td>4956B</td>\n",
       "      <td>1903 BRIARPARK DR</td>\n",
       "      <td>77042</td>\n",
       "      <td>950000.0</td>\n",
       "      <td>380000.0</td>\n",
       "      <td>559062.0</td>\n",
       "      <td>570000.0</td>\n",
       "      <td>1.500000</td>\n",
       "      <td>1.471216</td>\n",
       "      <td>0.980811</td>\n",
       "      <td>NaN</td>\n",
       "      <td>NaN</td>\n",
       "    </tr>\n",
       "    <tr>\n",
       "      <th>1887</th>\n",
       "      <td>932200000821</td>\n",
       "      <td>2022</td>\n",
       "      <td>7946.00</td>\n",
       "      <td>BRIARGROVE PARK SEC 1</td>\n",
       "      <td>1117</td>\n",
       "      <td>4957D</td>\n",
       "      <td>10019 BRIAR DR</td>\n",
       "      <td>77042</td>\n",
       "      <td>841646.0</td>\n",
       "      <td>437427.0</td>\n",
       "      <td>277189.0</td>\n",
       "      <td>404219.0</td>\n",
       "      <td>0.924083</td>\n",
       "      <td>0.633681</td>\n",
       "      <td>0.685740</td>\n",
       "      <td>868062.0</td>\n",
       "      <td>0.031386</td>\n",
       "    </tr>\n",
       "    <tr>\n",
       "      <th>1890</th>\n",
       "      <td>932270000018</td>\n",
       "      <td>2022</td>\n",
       "      <td>7946.00</td>\n",
       "      <td>BRIARGROVE PARK SEC 1</td>\n",
       "      <td>1117</td>\n",
       "      <td>4957D</td>\n",
       "      <td>10227 PINE FOREST RD</td>\n",
       "      <td>77042</td>\n",
       "      <td>1009103.0</td>\n",
       "      <td>597757.0</td>\n",
       "      <td>560034.0</td>\n",
       "      <td>411346.0</td>\n",
       "      <td>0.688149</td>\n",
       "      <td>0.936892</td>\n",
       "      <td>1.361467</td>\n",
       "      <td>1069834.0</td>\n",
       "      <td>0.060183</td>\n",
       "    </tr>\n",
       "    <tr>\n",
       "      <th>1879</th>\n",
       "      <td>932100000533</td>\n",
       "      <td>2022</td>\n",
       "      <td>7946.00</td>\n",
       "      <td>BRIARGROVE PARK SEC 1</td>\n",
       "      <td>1117</td>\n",
       "      <td>4956B</td>\n",
       "      <td>10018 LONGMONT DR</td>\n",
       "      <td>77042</td>\n",
       "      <td>663879.0</td>\n",
       "      <td>410805.0</td>\n",
       "      <td>253074.0</td>\n",
       "      <td>253074.0</td>\n",
       "      <td>0.616044</td>\n",
       "      <td>0.616044</td>\n",
       "      <td>1.000000</td>\n",
       "      <td>1073233.0</td>\n",
       "      <td>0.616609</td>\n",
       "    </tr>\n",
       "    <tr>\n",
       "      <th>1872</th>\n",
       "      <td>931920000058</td>\n",
       "      <td>2022</td>\n",
       "      <td>7947.00</td>\n",
       "      <td>BRIARGROVE PARK SEC 1</td>\n",
       "      <td>1117</td>\n",
       "      <td>4956D</td>\n",
       "      <td>10027 WICKERSHAM LN</td>\n",
       "      <td>77042</td>\n",
       "      <td>652735.0</td>\n",
       "      <td>414458.0</td>\n",
       "      <td>174829.0</td>\n",
       "      <td>238277.0</td>\n",
       "      <td>0.574912</td>\n",
       "      <td>0.421826</td>\n",
       "      <td>0.733722</td>\n",
       "      <td>715818.0</td>\n",
       "      <td>0.096644</td>\n",
       "    </tr>\n",
       "    <tr>\n",
       "      <th>1891</th>\n",
       "      <td>932280000040</td>\n",
       "      <td>2022</td>\n",
       "      <td>7946.00</td>\n",
       "      <td>BRIARGROVE PARK SEC 1</td>\n",
       "      <td>1117</td>\n",
       "      <td>4957C</td>\n",
       "      <td>10331 CANDLEWOOD DR</td>\n",
       "      <td>77042</td>\n",
       "      <td>796200.0</td>\n",
       "      <td>520000.0</td>\n",
       "      <td>85466.0</td>\n",
       "      <td>276200.0</td>\n",
       "      <td>0.531154</td>\n",
       "      <td>0.164358</td>\n",
       "      <td>0.309435</td>\n",
       "      <td>818000.0</td>\n",
       "      <td>0.027380</td>\n",
       "    </tr>\n",
       "    <tr>\n",
       "      <th>1880</th>\n",
       "      <td>932100000549</td>\n",
       "      <td>2022</td>\n",
       "      <td>7946.00</td>\n",
       "      <td>BRIARGROVE PARK SEC 1</td>\n",
       "      <td>1117</td>\n",
       "      <td>4957D</td>\n",
       "      <td>10015 VALLEY FORGE DR</td>\n",
       "      <td>77042</td>\n",
       "      <td>604893.0</td>\n",
       "      <td>410153.0</td>\n",
       "      <td>180883.0</td>\n",
       "      <td>194740.0</td>\n",
       "      <td>0.474798</td>\n",
       "      <td>0.441013</td>\n",
       "      <td>0.928844</td>\n",
       "      <td>1084691.0</td>\n",
       "      <td>0.793195</td>\n",
       "    </tr>\n",
       "    <tr>\n",
       "      <th>1886</th>\n",
       "      <td>932190000793</td>\n",
       "      <td>2022</td>\n",
       "      <td>7946.00</td>\n",
       "      <td>BRIARGROVE PARK SEC 1</td>\n",
       "      <td>1117</td>\n",
       "      <td>4957D</td>\n",
       "      <td>10118 SHADY RIVER DR</td>\n",
       "      <td>77042</td>\n",
       "      <td>988000.0</td>\n",
       "      <td>681110.0</td>\n",
       "      <td>344843.0</td>\n",
       "      <td>306890.0</td>\n",
       "      <td>0.450573</td>\n",
       "      <td>0.506296</td>\n",
       "      <td>1.123670</td>\n",
       "      <td>1179805.0</td>\n",
       "      <td>0.194135</td>\n",
       "    </tr>\n",
       "    <tr>\n",
       "      <th>1885</th>\n",
       "      <td>932180000789</td>\n",
       "      <td>2022</td>\n",
       "      <td>7946.00</td>\n",
       "      <td>BRIARGROVE PARK SEC 1</td>\n",
       "      <td>1117</td>\n",
       "      <td>4957D</td>\n",
       "      <td>10003 BAYOU GLEN RD</td>\n",
       "      <td>77042</td>\n",
       "      <td>950000.0</td>\n",
       "      <td>658890.0</td>\n",
       "      <td>416750.0</td>\n",
       "      <td>291110.0</td>\n",
       "      <td>0.441819</td>\n",
       "      <td>0.632503</td>\n",
       "      <td>1.431589</td>\n",
       "      <td>1241956.0</td>\n",
       "      <td>0.307322</td>\n",
       "    </tr>\n",
       "    <tr>\n",
       "      <th>2251</th>\n",
       "      <td>1034840000421</td>\n",
       "      <td>2022</td>\n",
       "      <td>7946.00</td>\n",
       "      <td>BRIARGROVE PARK SEC 4</td>\n",
       "      <td>1117</td>\n",
       "      <td>4956B</td>\n",
       "      <td>10111 CEDAR CREEK DR</td>\n",
       "      <td>77042</td>\n",
       "      <td>916572.0</td>\n",
       "      <td>658831.0</td>\n",
       "      <td>222848.0</td>\n",
       "      <td>257741.0</td>\n",
       "      <td>0.391210</td>\n",
       "      <td>0.338248</td>\n",
       "      <td>0.864620</td>\n",
       "      <td>950734.0</td>\n",
       "      <td>0.037271</td>\n",
       "    </tr>\n",
       "    <tr>\n",
       "      <th>1873</th>\n",
       "      <td>931930000073</td>\n",
       "      <td>2022</td>\n",
       "      <td>7947.00</td>\n",
       "      <td>BRIARGROVE PARK SEC 1</td>\n",
       "      <td>1117</td>\n",
       "      <td>4956B</td>\n",
       "      <td>10034 WICKERSHAM LN</td>\n",
       "      <td>77042</td>\n",
       "      <td>662002.0</td>\n",
       "      <td>481146.0</td>\n",
       "      <td>148397.0</td>\n",
       "      <td>180856.0</td>\n",
       "      <td>0.375886</td>\n",
       "      <td>0.308424</td>\n",
       "      <td>0.820526</td>\n",
       "      <td>705486.0</td>\n",
       "      <td>0.065686</td>\n",
       "    </tr>\n",
       "    <tr>\n",
       "      <th>1878</th>\n",
       "      <td>931980000265</td>\n",
       "      <td>2022</td>\n",
       "      <td>7947.00</td>\n",
       "      <td>BRIARGROVE PARK SEC 1</td>\n",
       "      <td>1117</td>\n",
       "      <td>4956B</td>\n",
       "      <td>1511 BRIARPARK DR</td>\n",
       "      <td>77042</td>\n",
       "      <td>710845.0</td>\n",
       "      <td>521426.0</td>\n",
       "      <td>36543.0</td>\n",
       "      <td>189419.0</td>\n",
       "      <td>0.363271</td>\n",
       "      <td>0.070083</td>\n",
       "      <td>0.192922</td>\n",
       "      <td>784253.0</td>\n",
       "      <td>0.103269</td>\n",
       "    </tr>\n",
       "    <tr>\n",
       "      <th>2254</th>\n",
       "      <td>1034940001210</td>\n",
       "      <td>2022</td>\n",
       "      <td>7947.00</td>\n",
       "      <td>BRIARGROVE PARK SEC 4</td>\n",
       "      <td>1117</td>\n",
       "      <td>4956B</td>\n",
       "      <td>10203 MEADOW LAKE LN</td>\n",
       "      <td>77042</td>\n",
       "      <td>700424.0</td>\n",
       "      <td>514080.0</td>\n",
       "      <td>56429.0</td>\n",
       "      <td>186344.0</td>\n",
       "      <td>0.362481</td>\n",
       "      <td>0.109767</td>\n",
       "      <td>0.302822</td>\n",
       "      <td>752548.0</td>\n",
       "      <td>0.074418</td>\n",
       "    </tr>\n",
       "    <tr>\n",
       "      <th>1881</th>\n",
       "      <td>932140000673</td>\n",
       "      <td>2022</td>\n",
       "      <td>7946.00</td>\n",
       "      <td>BRIARGROVE PARK SEC 1</td>\n",
       "      <td>1117</td>\n",
       "      <td>4957D</td>\n",
       "      <td>10003 HOLLY SPRINGS DR</td>\n",
       "      <td>77042</td>\n",
       "      <td>847138.0</td>\n",
       "      <td>629853.0</td>\n",
       "      <td>214299.0</td>\n",
       "      <td>217285.0</td>\n",
       "      <td>0.344977</td>\n",
       "      <td>0.340237</td>\n",
       "      <td>0.986258</td>\n",
       "      <td>889442.0</td>\n",
       "      <td>0.049938</td>\n",
       "    </tr>\n",
       "    <tr>\n",
       "      <th>2335</th>\n",
       "      <td>1075870001108</td>\n",
       "      <td>2022</td>\n",
       "      <td>7946.00</td>\n",
       "      <td>BRIARGROVE PARK SEC 6</td>\n",
       "      <td>1117</td>\n",
       "      <td>4956B</td>\n",
       "      <td>10219 CEDAR CREEK DR</td>\n",
       "      <td>77042</td>\n",
       "      <td>738300.0</td>\n",
       "      <td>550396.0</td>\n",
       "      <td>164679.0</td>\n",
       "      <td>187904.0</td>\n",
       "      <td>0.341398</td>\n",
       "      <td>0.299201</td>\n",
       "      <td>0.876400</td>\n",
       "      <td>762210.0</td>\n",
       "      <td>0.032385</td>\n",
       "    </tr>\n",
       "    <tr>\n",
       "      <th>1876</th>\n",
       "      <td>931980000244</td>\n",
       "      <td>2022</td>\n",
       "      <td>7947.00</td>\n",
       "      <td>BRIARGROVE PARK SEC 1</td>\n",
       "      <td>1117</td>\n",
       "      <td>4956B</td>\n",
       "      <td>10019 OLYMPIA DR</td>\n",
       "      <td>77042</td>\n",
       "      <td>659910.0</td>\n",
       "      <td>501501.0</td>\n",
       "      <td>109277.0</td>\n",
       "      <td>158409.0</td>\n",
       "      <td>0.315870</td>\n",
       "      <td>0.217900</td>\n",
       "      <td>0.689841</td>\n",
       "      <td>702036.0</td>\n",
       "      <td>0.063836</td>\n",
       "    </tr>\n",
       "    <tr>\n",
       "      <th>2253</th>\n",
       "      <td>1034940001200</td>\n",
       "      <td>2022</td>\n",
       "      <td>7947.00</td>\n",
       "      <td>BRIARGROVE PARK SEC 4</td>\n",
       "      <td>1117</td>\n",
       "      <td>4956B</td>\n",
       "      <td>10214 MEADOW LAKE LN</td>\n",
       "      <td>77042</td>\n",
       "      <td>732092.0</td>\n",
       "      <td>566000.0</td>\n",
       "      <td>22986.0</td>\n",
       "      <td>166092.0</td>\n",
       "      <td>0.293449</td>\n",
       "      <td>0.040611</td>\n",
       "      <td>0.138393</td>\n",
       "      <td>785207.0</td>\n",
       "      <td>0.072552</td>\n",
       "    </tr>\n",
       "    <tr>\n",
       "      <th>2109</th>\n",
       "      <td>982410000004</td>\n",
       "      <td>2022</td>\n",
       "      <td>7946.00</td>\n",
       "      <td>BRIARGROVE PARK SEC 3</td>\n",
       "      <td>1117</td>\n",
       "      <td>4957D</td>\n",
       "      <td>10106 LYNBROOK HOLLOW ST</td>\n",
       "      <td>77042</td>\n",
       "      <td>728000.0</td>\n",
       "      <td>570000.0</td>\n",
       "      <td>22992.0</td>\n",
       "      <td>158000.0</td>\n",
       "      <td>0.277193</td>\n",
       "      <td>0.040337</td>\n",
       "      <td>0.145519</td>\n",
       "      <td>756946.0</td>\n",
       "      <td>0.039761</td>\n",
       "    </tr>\n",
       "    <tr>\n",
       "      <th>1882</th>\n",
       "      <td>932170000737</td>\n",
       "      <td>2022</td>\n",
       "      <td>7946.00</td>\n",
       "      <td>BRIARGROVE PARK SEC 1</td>\n",
       "      <td>1117</td>\n",
       "      <td>4957D</td>\n",
       "      <td>10030 PINE FOREST RD</td>\n",
       "      <td>77042</td>\n",
       "      <td>721707.0</td>\n",
       "      <td>575596.0</td>\n",
       "      <td>44885.0</td>\n",
       "      <td>146111.0</td>\n",
       "      <td>0.253843</td>\n",
       "      <td>0.077980</td>\n",
       "      <td>0.307198</td>\n",
       "      <td>793833.0</td>\n",
       "      <td>0.099938</td>\n",
       "    </tr>\n",
       "    <tr>\n",
       "      <th>2255</th>\n",
       "      <td>1034940001235</td>\n",
       "      <td>2022</td>\n",
       "      <td>7947.00</td>\n",
       "      <td>BRIARGROVE PARK SEC 4</td>\n",
       "      <td>1117</td>\n",
       "      <td>4956B</td>\n",
       "      <td>10215 PIPING ROCK LN</td>\n",
       "      <td>77042</td>\n",
       "      <td>627169.0</td>\n",
       "      <td>501924.0</td>\n",
       "      <td>31616.0</td>\n",
       "      <td>125245.0</td>\n",
       "      <td>0.249530</td>\n",
       "      <td>0.062990</td>\n",
       "      <td>0.252433</td>\n",
       "      <td>634173.0</td>\n",
       "      <td>0.011168</td>\n",
       "    </tr>\n",
       "    <tr>\n",
       "      <th>2110</th>\n",
       "      <td>982410000005</td>\n",
       "      <td>2022</td>\n",
       "      <td>7946.00</td>\n",
       "      <td>BRIARGROVE PARK SEC 3</td>\n",
       "      <td>1117</td>\n",
       "      <td>4957D</td>\n",
       "      <td>10102 LYNBROOK HOLLOW ST</td>\n",
       "      <td>77042</td>\n",
       "      <td>795866.0</td>\n",
       "      <td>638717.0</td>\n",
       "      <td>129137.0</td>\n",
       "      <td>157149.0</td>\n",
       "      <td>0.246039</td>\n",
       "      <td>0.202182</td>\n",
       "      <td>0.821749</td>\n",
       "      <td>818370.0</td>\n",
       "      <td>0.028276</td>\n",
       "    </tr>\n",
       "    <tr>\n",
       "      <th>1889</th>\n",
       "      <td>932250000954</td>\n",
       "      <td>2022</td>\n",
       "      <td>7946.00</td>\n",
       "      <td>BRIARGROVE PARK SEC 1</td>\n",
       "      <td>1117</td>\n",
       "      <td>4957D</td>\n",
       "      <td>10219 SHADY RIVER DR</td>\n",
       "      <td>77042</td>\n",
       "      <td>814091.0</td>\n",
       "      <td>657000.0</td>\n",
       "      <td>329688.0</td>\n",
       "      <td>157091.0</td>\n",
       "      <td>0.239104</td>\n",
       "      <td>0.501808</td>\n",
       "      <td>2.098707</td>\n",
       "      <td>1410472.0</td>\n",
       "      <td>0.732573</td>\n",
       "    </tr>\n",
       "    <tr>\n",
       "      <th>1874</th>\n",
       "      <td>931950000137</td>\n",
       "      <td>2022</td>\n",
       "      <td>7947.00</td>\n",
       "      <td>BRIARGROVE PARK SEC 1</td>\n",
       "      <td>1117</td>\n",
       "      <td>4956B</td>\n",
       "      <td>10023 PIPING ROCK LN</td>\n",
       "      <td>77042</td>\n",
       "      <td>574460.0</td>\n",
       "      <td>470644.0</td>\n",
       "      <td>21130.0</td>\n",
       "      <td>103816.0</td>\n",
       "      <td>0.220583</td>\n",
       "      <td>0.044896</td>\n",
       "      <td>0.203533</td>\n",
       "      <td>698120.0</td>\n",
       "      <td>0.215263</td>\n",
       "    </tr>\n",
       "    <tr>\n",
       "      <th>1875</th>\n",
       "      <td>931960000161</td>\n",
       "      <td>2022</td>\n",
       "      <td>7947.00</td>\n",
       "      <td>BRIARGROVE PARK SEC 1</td>\n",
       "      <td>1117</td>\n",
       "      <td>4956B</td>\n",
       "      <td>10031 BURGOYNE RD</td>\n",
       "      <td>77042</td>\n",
       "      <td>601425.0</td>\n",
       "      <td>498461.0</td>\n",
       "      <td>78933.0</td>\n",
       "      <td>102964.0</td>\n",
       "      <td>0.206564</td>\n",
       "      <td>0.158353</td>\n",
       "      <td>0.766608</td>\n",
       "      <td>701927.0</td>\n",
       "      <td>0.167106</td>\n",
       "    </tr>\n",
       "    <tr>\n",
       "      <th>2263</th>\n",
       "      <td>1043460001336</td>\n",
       "      <td>2022</td>\n",
       "      <td>7946.00</td>\n",
       "      <td>BRIARGROVE PARK SEC 5</td>\n",
       "      <td>1117</td>\n",
       "      <td>4957C</td>\n",
       "      <td>10330 LYNBROOK HOLLOW ST</td>\n",
       "      <td>77042</td>\n",
       "      <td>766953.0</td>\n",
       "      <td>639189.0</td>\n",
       "      <td>29026.0</td>\n",
       "      <td>127764.0</td>\n",
       "      <td>0.199885</td>\n",
       "      <td>0.045411</td>\n",
       "      <td>0.227184</td>\n",
       "      <td>794022.0</td>\n",
       "      <td>0.035294</td>\n",
       "    </tr>\n",
       "    <tr>\n",
       "      <th>2252</th>\n",
       "      <td>1034910001289</td>\n",
       "      <td>2022</td>\n",
       "      <td>7947.00</td>\n",
       "      <td>BRIARGROVE PARK SEC 4</td>\n",
       "      <td>1117</td>\n",
       "      <td>4956B</td>\n",
       "      <td>10106 OLYMPIA DR</td>\n",
       "      <td>77042</td>\n",
       "      <td>605163.0</td>\n",
       "      <td>535039.0</td>\n",
       "      <td>25919.0</td>\n",
       "      <td>70124.0</td>\n",
       "      <td>0.131063</td>\n",
       "      <td>0.048443</td>\n",
       "      <td>0.369617</td>\n",
       "      <td>598802.0</td>\n",
       "      <td>-0.010511</td>\n",
       "    </tr>\n",
       "    <tr>\n",
       "      <th>1888</th>\n",
       "      <td>932230000928</td>\n",
       "      <td>2022</td>\n",
       "      <td>7946.03</td>\n",
       "      <td>BRIARGROVE PARK SEC 1</td>\n",
       "      <td>1117</td>\n",
       "      <td>4957C</td>\n",
       "      <td>314 BRIAR HILL DR</td>\n",
       "      <td>77042</td>\n",
       "      <td>561240.0</td>\n",
       "      <td>508362.0</td>\n",
       "      <td>63879.0</td>\n",
       "      <td>52878.0</td>\n",
       "      <td>0.104016</td>\n",
       "      <td>0.125657</td>\n",
       "      <td>1.208045</td>\n",
       "      <td>567838.0</td>\n",
       "      <td>0.011756</td>\n",
       "    </tr>\n",
       "  </tbody>\n",
       "</table>\n",
       "</div>"
      ],
      "text/plain": [
       "            account  year  neighborhood_code           neighborhood  \\\n",
       "1883   932180000766  2022            7946.00  BRIARGROVE PARK SEC 1   \n",
       "1884   932180000769  2022            7946.00  BRIARGROVE PARK SEC 1   \n",
       "1877   931980000252  2022            7947.00  BRIARGROVE PARK SEC 1   \n",
       "1887   932200000821  2022            7946.00  BRIARGROVE PARK SEC 1   \n",
       "1890   932270000018  2022            7946.00  BRIARGROVE PARK SEC 1   \n",
       "1879   932100000533  2022            7946.00  BRIARGROVE PARK SEC 1   \n",
       "1872   931920000058  2022            7947.00  BRIARGROVE PARK SEC 1   \n",
       "1891   932280000040  2022            7946.00  BRIARGROVE PARK SEC 1   \n",
       "1880   932100000549  2022            7946.00  BRIARGROVE PARK SEC 1   \n",
       "1886   932190000793  2022            7946.00  BRIARGROVE PARK SEC 1   \n",
       "1885   932180000789  2022            7946.00  BRIARGROVE PARK SEC 1   \n",
       "2251  1034840000421  2022            7946.00  BRIARGROVE PARK SEC 4   \n",
       "1873   931930000073  2022            7947.00  BRIARGROVE PARK SEC 1   \n",
       "1878   931980000265  2022            7947.00  BRIARGROVE PARK SEC 1   \n",
       "2254  1034940001210  2022            7947.00  BRIARGROVE PARK SEC 4   \n",
       "1881   932140000673  2022            7946.00  BRIARGROVE PARK SEC 1   \n",
       "2335  1075870001108  2022            7946.00  BRIARGROVE PARK SEC 6   \n",
       "1876   931980000244  2022            7947.00  BRIARGROVE PARK SEC 1   \n",
       "2253  1034940001200  2022            7947.00  BRIARGROVE PARK SEC 4   \n",
       "2109   982410000004  2022            7946.00  BRIARGROVE PARK SEC 3   \n",
       "1882   932170000737  2022            7946.00  BRIARGROVE PARK SEC 1   \n",
       "2255  1034940001235  2022            7947.00  BRIARGROVE PARK SEC 4   \n",
       "2110   982410000005  2022            7946.00  BRIARGROVE PARK SEC 3   \n",
       "1889   932250000954  2022            7946.00  BRIARGROVE PARK SEC 1   \n",
       "1874   931950000137  2022            7947.00  BRIARGROVE PARK SEC 1   \n",
       "1875   931960000161  2022            7947.00  BRIARGROVE PARK SEC 1   \n",
       "2263  1043460001336  2022            7946.00  BRIARGROVE PARK SEC 5   \n",
       "2252  1034910001289  2022            7947.00  BRIARGROVE PARK SEC 4   \n",
       "1888   932230000928  2022            7946.03  BRIARGROVE PARK SEC 1   \n",
       "\n",
       "      neighborhood_group map_facet            street_address zipcode  \\\n",
       "1883                1117     4957D       10030 GREEN TREE RD   77042   \n",
       "1884                1117     4957D       10110 GREEN TREE RD   77042   \n",
       "1877                1117     4956B         1903 BRIARPARK DR   77042   \n",
       "1887                1117     4957D            10019 BRIAR DR   77042   \n",
       "1890                1117     4957D      10227 PINE FOREST RD   77042   \n",
       "1879                1117     4956B         10018 LONGMONT DR   77042   \n",
       "1872                1117     4956D       10027 WICKERSHAM LN   77042   \n",
       "1891                1117     4957C       10331 CANDLEWOOD DR   77042   \n",
       "1880                1117     4957D     10015 VALLEY FORGE DR   77042   \n",
       "1886                1117     4957D      10118 SHADY RIVER DR   77042   \n",
       "1885                1117     4957D       10003 BAYOU GLEN RD   77042   \n",
       "2251                1117     4956B      10111 CEDAR CREEK DR   77042   \n",
       "1873                1117     4956B       10034 WICKERSHAM LN   77042   \n",
       "1878                1117     4956B         1511 BRIARPARK DR   77042   \n",
       "2254                1117     4956B      10203 MEADOW LAKE LN   77042   \n",
       "1881                1117     4957D    10003 HOLLY SPRINGS DR   77042   \n",
       "2335                1117     4956B      10219 CEDAR CREEK DR   77042   \n",
       "1876                1117     4956B          10019 OLYMPIA DR   77042   \n",
       "2253                1117     4956B      10214 MEADOW LAKE LN   77042   \n",
       "2109                1117     4957D  10106 LYNBROOK HOLLOW ST   77042   \n",
       "1882                1117     4957D      10030 PINE FOREST RD   77042   \n",
       "2255                1117     4956B      10215 PIPING ROCK LN   77042   \n",
       "2110                1117     4957D  10102 LYNBROOK HOLLOW ST   77042   \n",
       "1889                1117     4957D      10219 SHADY RIVER DR   77042   \n",
       "1874                1117     4956B      10023 PIPING ROCK LN   77042   \n",
       "1875                1117     4956B         10031 BURGOYNE RD   77042   \n",
       "2263                1117     4957C  10330 LYNBROOK HOLLOW ST   77042   \n",
       "2252                1117     4956B          10106 OLYMPIA DR   77042   \n",
       "1888                1117     4957C         314 BRIAR HILL DR   77042   \n",
       "\n",
       "      market_value  prior_market_value  new_construction_value  \\\n",
       "1883      946687.0            368496.0                486067.0   \n",
       "1884     1345000.0            528234.0                779035.0   \n",
       "1877      950000.0            380000.0                559062.0   \n",
       "1887      841646.0            437427.0                277189.0   \n",
       "1890     1009103.0            597757.0                560034.0   \n",
       "1879      663879.0            410805.0                253074.0   \n",
       "1872      652735.0            414458.0                174829.0   \n",
       "1891      796200.0            520000.0                 85466.0   \n",
       "1880      604893.0            410153.0                180883.0   \n",
       "1886      988000.0            681110.0                344843.0   \n",
       "1885      950000.0            658890.0                416750.0   \n",
       "2251      916572.0            658831.0                222848.0   \n",
       "1873      662002.0            481146.0                148397.0   \n",
       "1878      710845.0            521426.0                 36543.0   \n",
       "2254      700424.0            514080.0                 56429.0   \n",
       "1881      847138.0            629853.0                214299.0   \n",
       "2335      738300.0            550396.0                164679.0   \n",
       "1876      659910.0            501501.0                109277.0   \n",
       "2253      732092.0            566000.0                 22986.0   \n",
       "2109      728000.0            570000.0                 22992.0   \n",
       "1882      721707.0            575596.0                 44885.0   \n",
       "2255      627169.0            501924.0                 31616.0   \n",
       "2110      795866.0            638717.0                129137.0   \n",
       "1889      814091.0            657000.0                329688.0   \n",
       "1874      574460.0            470644.0                 21130.0   \n",
       "1875      601425.0            498461.0                 78933.0   \n",
       "2263      766953.0            639189.0                 29026.0   \n",
       "2252      605163.0            535039.0                 25919.0   \n",
       "1888      561240.0            508362.0                 63879.0   \n",
       "\n",
       "      change_in_market_value  pct_change_in_market_value  \\\n",
       "1883                578191.0                    1.569056   \n",
       "1884                816766.0                    1.546220   \n",
       "1877                570000.0                    1.500000   \n",
       "1887                404219.0                    0.924083   \n",
       "1890                411346.0                    0.688149   \n",
       "1879                253074.0                    0.616044   \n",
       "1872                238277.0                    0.574912   \n",
       "1891                276200.0                    0.531154   \n",
       "1880                194740.0                    0.474798   \n",
       "1886                306890.0                    0.450573   \n",
       "1885                291110.0                    0.441819   \n",
       "2251                257741.0                    0.391210   \n",
       "1873                180856.0                    0.375886   \n",
       "1878                189419.0                    0.363271   \n",
       "2254                186344.0                    0.362481   \n",
       "1881                217285.0                    0.344977   \n",
       "2335                187904.0                    0.341398   \n",
       "1876                158409.0                    0.315870   \n",
       "2253                166092.0                    0.293449   \n",
       "2109                158000.0                    0.277193   \n",
       "1882                146111.0                    0.253843   \n",
       "2255                125245.0                    0.249530   \n",
       "2110                157149.0                    0.246039   \n",
       "1889                157091.0                    0.239104   \n",
       "1874                103816.0                    0.220583   \n",
       "1875                102964.0                    0.206564   \n",
       "2263                127764.0                    0.199885   \n",
       "2252                 70124.0                    0.131063   \n",
       "1888                 52878.0                    0.104016   \n",
       "\n",
       "      new_construction_pct_total_prior_market_value  \\\n",
       "1883                                       1.319056   \n",
       "1884                                       1.474791   \n",
       "1877                                       1.471216   \n",
       "1887                                       0.633681   \n",
       "1890                                       0.936892   \n",
       "1879                                       0.616044   \n",
       "1872                                       0.421826   \n",
       "1891                                       0.164358   \n",
       "1880                                       0.441013   \n",
       "1886                                       0.506296   \n",
       "1885                                       0.632503   \n",
       "2251                                       0.338248   \n",
       "1873                                       0.308424   \n",
       "1878                                       0.070083   \n",
       "2254                                       0.109767   \n",
       "1881                                       0.340237   \n",
       "2335                                       0.299201   \n",
       "1876                                       0.217900   \n",
       "2253                                       0.040611   \n",
       "2109                                       0.040337   \n",
       "1882                                       0.077980   \n",
       "2255                                       0.062990   \n",
       "2110                                       0.202182   \n",
       "1889                                       0.501808   \n",
       "1874                                       0.044896   \n",
       "1875                                       0.158353   \n",
       "2263                                       0.045411   \n",
       "2252                                       0.048443   \n",
       "1888                                       0.125657   \n",
       "\n",
       "      new_construction_pct_change_in_market_value  next_market_value  \\\n",
       "1883                                     0.840669          1315375.0   \n",
       "1884                                     0.953804          1674576.0   \n",
       "1877                                     0.980811                NaN   \n",
       "1887                                     0.685740           868062.0   \n",
       "1890                                     1.361467          1069834.0   \n",
       "1879                                     1.000000          1073233.0   \n",
       "1872                                     0.733722           715818.0   \n",
       "1891                                     0.309435           818000.0   \n",
       "1880                                     0.928844          1084691.0   \n",
       "1886                                     1.123670          1179805.0   \n",
       "1885                                     1.431589          1241956.0   \n",
       "2251                                     0.864620           950734.0   \n",
       "1873                                     0.820526           705486.0   \n",
       "1878                                     0.192922           784253.0   \n",
       "2254                                     0.302822           752548.0   \n",
       "1881                                     0.986258           889442.0   \n",
       "2335                                     0.876400           762210.0   \n",
       "1876                                     0.689841           702036.0   \n",
       "2253                                     0.138393           785207.0   \n",
       "2109                                     0.145519           756946.0   \n",
       "1882                                     0.307198           793833.0   \n",
       "2255                                     0.252433           634173.0   \n",
       "2110                                     0.821749           818370.0   \n",
       "1889                                     2.098707          1410472.0   \n",
       "1874                                     0.203533           698120.0   \n",
       "1875                                     0.766608           701927.0   \n",
       "2263                                     0.227184           794022.0   \n",
       "2252                                     0.369617           598802.0   \n",
       "1888                                     1.208045           567838.0   \n",
       "\n",
       "      next_market_value_pct_change  \n",
       "1883                      0.389451  \n",
       "1884                      0.245038  \n",
       "1877                           NaN  \n",
       "1887                      0.031386  \n",
       "1890                      0.060183  \n",
       "1879                      0.616609  \n",
       "1872                      0.096644  \n",
       "1891                      0.027380  \n",
       "1880                      0.793195  \n",
       "1886                      0.194135  \n",
       "1885                      0.307322  \n",
       "2251                      0.037271  \n",
       "1873                      0.065686  \n",
       "1878                      0.103269  \n",
       "2254                      0.074418  \n",
       "1881                      0.049938  \n",
       "2335                      0.032385  \n",
       "1876                      0.063836  \n",
       "2253                      0.072552  \n",
       "2109                      0.039761  \n",
       "1882                      0.099938  \n",
       "2255                      0.011168  \n",
       "2110                      0.028276  \n",
       "1889                      0.732573  \n",
       "1874                      0.215263  \n",
       "1875                      0.167106  \n",
       "2263                      0.035294  \n",
       "2252                     -0.010511  \n",
       "1888                      0.011756  "
      ]
     },
     "execution_count": 148,
     "metadata": {},
     "output_type": "execute_result"
    }
   ],
   "source": [
    "remodeling_df_filtered.sort_values(by=['pct_change_in_market_value'], ascending=False)"
   ]
  },
  {
   "attachments": {},
   "cell_type": "markdown",
   "metadata": {},
   "source": [
    "# Comps"
   ]
  },
  {
   "cell_type": "code",
   "execution_count": 169,
   "metadata": {},
   "outputs": [],
   "source": [
    "hcad_equity_comps = ['931980000216','931930000073','0931980000232','931980000235','931980000238']\n",
    "hcad_sale_comps = ['931980000223','931990000274','931980000216','931940000110','932020000340']\n",
    "zwicker_comps = ['931930000077','931940000096','931940000110','931980000240','932000000311']\n",
    "subject = ['931920000058']\n",
    "full_comp_list = hcad_equity_comps + hcad_sale_comps + zwicker_comps + subject\n",
    "full_comp_tuple = tuple(full_comp_list)\n",
    "hcad_equity_tuple = tuple(hcad_equity_comps)\n",
    "hcad_sale_tuple = tuple(hcad_sale_comps)\n",
    "zwicker_tuple = tuple(zwicker_comps)\n",
    "subject_string = subject[0]"
   ]
  },
  {
   "cell_type": "code",
   "execution_count": 172,
   "metadata": {},
   "outputs": [],
   "source": [
    "comp_query = f'''\n",
    "    with cte_2022 as (\n",
    "        select\n",
    "            acct as account,\n",
    "            case when acct in {hcad_equity_tuple} then true else false end as is_hcad_equity_comp,\n",
    "            case when acct in {hcad_sale_tuple} then true else false end as is_hcad_sale_comp,\n",
    "            case when acct in {zwicker_tuple} then true else false end as is_zwicker_comp,\n",
    "            case when acct = '{subject_string}' then true else false end as is_subject,\n",
    "            site_addr_1 as street_address,\n",
    "            tot_mkt_val as market_value_2022,\n",
    "            prior_tot_mkt_val as market_value_2021,\n",
    "            new_construction_val as new_construction_value_2022,\n",
    "            tot_mkt_val - prior_tot_mkt_val as change_in_market_value_2022,\n",
    "            tot_mkt_val / prior_tot_mkt_val - 1 as pct_change_in_market_value_2022,\n",
    "            new_construction_val / prior_tot_mkt_val as new_construction_pct_total_prior_market_value_2022,\n",
    "            new_construction_val / (tot_mkt_val - prior_tot_mkt_val) as new_construction_pct_change_in_market_value_2022\n",
    "        from real_acct\n",
    "        where\n",
    "            true\n",
    "            and acct in {full_comp_tuple}\n",
    "            and yr = '2022'\n",
    "    ),\n",
    "    cte_2023 as (\n",
    "        SELECT \n",
    "            acct,\n",
    "            tot_mkt_val\n",
    "        from\n",
    "            real_acct ra \n",
    "            inner join cte_2022 on cte_2022.account = ra.acct\n",
    "        WHERE\n",
    "            yr = '2023'\n",
    "    )\n",
    "    SELECT \n",
    "        cte_2022.*,\n",
    "        cte_2023.tot_mkt_val as market_value_2023,\n",
    "        cte_2023.tot_mkt_val / cte_2022.market_value_2022 - 1 as market_value_pct_change_2023\n",
    "    from cte_2022\n",
    "        left join cte_2023 on cte_2023.acct = cte_2022.account\n",
    "'''"
   ]
  },
  {
   "cell_type": "code",
   "execution_count": 173,
   "metadata": {},
   "outputs": [],
   "source": [
    "comp_df = pd.read_sql_query(comp_query, engine)"
   ]
  },
  {
   "cell_type": "code",
   "execution_count": 175,
   "metadata": {},
   "outputs": [
    {
     "data": {
      "text/html": [
       "<div>\n",
       "<style scoped>\n",
       "    .dataframe tbody tr th:only-of-type {\n",
       "        vertical-align: middle;\n",
       "    }\n",
       "\n",
       "    .dataframe tbody tr th {\n",
       "        vertical-align: top;\n",
       "    }\n",
       "\n",
       "    .dataframe thead th {\n",
       "        text-align: right;\n",
       "    }\n",
       "</style>\n",
       "<table border=\"1\" class=\"dataframe\">\n",
       "  <thead>\n",
       "    <tr style=\"text-align: right;\">\n",
       "      <th></th>\n",
       "      <th>account</th>\n",
       "      <th>is_hcad_equity_comp</th>\n",
       "      <th>is_hcad_sale_comp</th>\n",
       "      <th>is_zwicker_comp</th>\n",
       "      <th>is_subject</th>\n",
       "      <th>street_address</th>\n",
       "      <th>market_value_2022</th>\n",
       "      <th>market_value_2021</th>\n",
       "      <th>new_construction_value_2022</th>\n",
       "      <th>change_in_market_value_2022</th>\n",
       "      <th>pct_change_in_market_value_2022</th>\n",
       "      <th>new_construction_pct_total_prior_market_value_2022</th>\n",
       "      <th>new_construction_pct_change_in_market_value_2022</th>\n",
       "      <th>market_value_2023</th>\n",
       "      <th>market_value_pct_change_2023</th>\n",
       "    </tr>\n",
       "  </thead>\n",
       "  <tbody>\n",
       "    <tr>\n",
       "      <th>5</th>\n",
       "      <td>931980000216</td>\n",
       "      <td>1</td>\n",
       "      <td>1</td>\n",
       "      <td>0</td>\n",
       "      <td>0</td>\n",
       "      <td>2203 BRIARPARK DR</td>\n",
       "      <td>678852.0</td>\n",
       "      <td>621462.0</td>\n",
       "      <td>0.0</td>\n",
       "      <td>57390.0</td>\n",
       "      <td>0.092347</td>\n",
       "      <td>0.000000</td>\n",
       "      <td>0.000000</td>\n",
       "      <td>624000.0</td>\n",
       "      <td>-0.080801</td>\n",
       "    </tr>\n",
       "    <tr>\n",
       "      <th>9</th>\n",
       "      <td>931980000240</td>\n",
       "      <td>0</td>\n",
       "      <td>0</td>\n",
       "      <td>1</td>\n",
       "      <td>0</td>\n",
       "      <td>10035 OLYMPIA DR</td>\n",
       "      <td>552187.0</td>\n",
       "      <td>464344.0</td>\n",
       "      <td>0.0</td>\n",
       "      <td>87843.0</td>\n",
       "      <td>0.189177</td>\n",
       "      <td>0.000000</td>\n",
       "      <td>0.000000</td>\n",
       "      <td>541995.0</td>\n",
       "      <td>-0.018458</td>\n",
       "    </tr>\n",
       "    <tr>\n",
       "      <th>1</th>\n",
       "      <td>931930000073</td>\n",
       "      <td>1</td>\n",
       "      <td>0</td>\n",
       "      <td>0</td>\n",
       "      <td>0</td>\n",
       "      <td>10034 WICKERSHAM LN</td>\n",
       "      <td>662002.0</td>\n",
       "      <td>481146.0</td>\n",
       "      <td>148397.0</td>\n",
       "      <td>180856.0</td>\n",
       "      <td>0.375886</td>\n",
       "      <td>0.308424</td>\n",
       "      <td>0.820526</td>\n",
       "      <td>705486.0</td>\n",
       "      <td>0.065686</td>\n",
       "    </tr>\n",
       "    <tr>\n",
       "      <th>10</th>\n",
       "      <td>931990000274</td>\n",
       "      <td>0</td>\n",
       "      <td>1</td>\n",
       "      <td>0</td>\n",
       "      <td>0</td>\n",
       "      <td>10030 OLYMPIA DR</td>\n",
       "      <td>658092.0</td>\n",
       "      <td>546250.0</td>\n",
       "      <td>0.0</td>\n",
       "      <td>111842.0</td>\n",
       "      <td>0.204745</td>\n",
       "      <td>0.000000</td>\n",
       "      <td>0.000000</td>\n",
       "      <td>707056.0</td>\n",
       "      <td>0.074403</td>\n",
       "    </tr>\n",
       "    <tr>\n",
       "      <th>7</th>\n",
       "      <td>931980000235</td>\n",
       "      <td>1</td>\n",
       "      <td>0</td>\n",
       "      <td>0</td>\n",
       "      <td>0</td>\n",
       "      <td>10055 OLYMPIA DR</td>\n",
       "      <td>589338.0</td>\n",
       "      <td>580890.0</td>\n",
       "      <td>0.0</td>\n",
       "      <td>8448.0</td>\n",
       "      <td>0.014543</td>\n",
       "      <td>0.000000</td>\n",
       "      <td>0.000000</td>\n",
       "      <td>644172.0</td>\n",
       "      <td>0.093043</td>\n",
       "    </tr>\n",
       "    <tr>\n",
       "      <th>0</th>\n",
       "      <td>931920000058</td>\n",
       "      <td>0</td>\n",
       "      <td>0</td>\n",
       "      <td>0</td>\n",
       "      <td>1</td>\n",
       "      <td>10027 WICKERSHAM LN</td>\n",
       "      <td>652735.0</td>\n",
       "      <td>414458.0</td>\n",
       "      <td>174829.0</td>\n",
       "      <td>238277.0</td>\n",
       "      <td>0.574912</td>\n",
       "      <td>0.421826</td>\n",
       "      <td>0.733722</td>\n",
       "      <td>715818.0</td>\n",
       "      <td>0.096644</td>\n",
       "    </tr>\n",
       "    <tr>\n",
       "      <th>3</th>\n",
       "      <td>931940000096</td>\n",
       "      <td>0</td>\n",
       "      <td>0</td>\n",
       "      <td>1</td>\n",
       "      <td>0</td>\n",
       "      <td>10022 OVERBROOK LN</td>\n",
       "      <td>527773.0</td>\n",
       "      <td>489863.0</td>\n",
       "      <td>0.0</td>\n",
       "      <td>37910.0</td>\n",
       "      <td>0.077389</td>\n",
       "      <td>0.000000</td>\n",
       "      <td>0.000000</td>\n",
       "      <td>585726.0</td>\n",
       "      <td>0.109807</td>\n",
       "    </tr>\n",
       "    <tr>\n",
       "      <th>11</th>\n",
       "      <td>932000000311</td>\n",
       "      <td>0</td>\n",
       "      <td>0</td>\n",
       "      <td>1</td>\n",
       "      <td>0</td>\n",
       "      <td>10019 DEL MONTE DR</td>\n",
       "      <td>599505.0</td>\n",
       "      <td>516029.0</td>\n",
       "      <td>0.0</td>\n",
       "      <td>83476.0</td>\n",
       "      <td>0.161766</td>\n",
       "      <td>0.000000</td>\n",
       "      <td>0.000000</td>\n",
       "      <td>679428.0</td>\n",
       "      <td>0.133315</td>\n",
       "    </tr>\n",
       "    <tr>\n",
       "      <th>4</th>\n",
       "      <td>931940000110</td>\n",
       "      <td>0</td>\n",
       "      <td>1</td>\n",
       "      <td>1</td>\n",
       "      <td>0</td>\n",
       "      <td>10027 ELLA LEE LN</td>\n",
       "      <td>567682.0</td>\n",
       "      <td>481455.0</td>\n",
       "      <td>0.0</td>\n",
       "      <td>86227.0</td>\n",
       "      <td>0.179097</td>\n",
       "      <td>0.000000</td>\n",
       "      <td>0.000000</td>\n",
       "      <td>649335.0</td>\n",
       "      <td>0.143836</td>\n",
       "    </tr>\n",
       "    <tr>\n",
       "      <th>12</th>\n",
       "      <td>932020000340</td>\n",
       "      <td>0</td>\n",
       "      <td>1</td>\n",
       "      <td>0</td>\n",
       "      <td>0</td>\n",
       "      <td>10002 INWOOD DR</td>\n",
       "      <td>659540.0</td>\n",
       "      <td>514404.0</td>\n",
       "      <td>0.0</td>\n",
       "      <td>145136.0</td>\n",
       "      <td>0.282144</td>\n",
       "      <td>0.000000</td>\n",
       "      <td>0.000000</td>\n",
       "      <td>803646.0</td>\n",
       "      <td>0.218495</td>\n",
       "    </tr>\n",
       "    <tr>\n",
       "      <th>2</th>\n",
       "      <td>931930000077</td>\n",
       "      <td>0</td>\n",
       "      <td>0</td>\n",
       "      <td>1</td>\n",
       "      <td>0</td>\n",
       "      <td>10050 WICKERSHAM LN</td>\n",
       "      <td>484889.0</td>\n",
       "      <td>433866.0</td>\n",
       "      <td>0.0</td>\n",
       "      <td>51023.0</td>\n",
       "      <td>0.117601</td>\n",
       "      <td>0.000000</td>\n",
       "      <td>0.000000</td>\n",
       "      <td>600654.0</td>\n",
       "      <td>0.238745</td>\n",
       "    </tr>\n",
       "    <tr>\n",
       "      <th>8</th>\n",
       "      <td>931980000238</td>\n",
       "      <td>1</td>\n",
       "      <td>0</td>\n",
       "      <td>0</td>\n",
       "      <td>0</td>\n",
       "      <td>10043 OLYMPIA DR</td>\n",
       "      <td>575000.0</td>\n",
       "      <td>498353.0</td>\n",
       "      <td>0.0</td>\n",
       "      <td>76647.0</td>\n",
       "      <td>0.153801</td>\n",
       "      <td>0.000000</td>\n",
       "      <td>0.000000</td>\n",
       "      <td>737634.0</td>\n",
       "      <td>0.282842</td>\n",
       "    </tr>\n",
       "    <tr>\n",
       "      <th>6</th>\n",
       "      <td>931980000223</td>\n",
       "      <td>0</td>\n",
       "      <td>1</td>\n",
       "      <td>0</td>\n",
       "      <td>0</td>\n",
       "      <td>10010 MEADOW LAKE LN</td>\n",
       "      <td>515514.0</td>\n",
       "      <td>499391.0</td>\n",
       "      <td>0.0</td>\n",
       "      <td>16123.0</td>\n",
       "      <td>0.032285</td>\n",
       "      <td>0.000000</td>\n",
       "      <td>0.000000</td>\n",
       "      <td>668697.0</td>\n",
       "      <td>0.297146</td>\n",
       "    </tr>\n",
       "  </tbody>\n",
       "</table>\n",
       "</div>"
      ],
      "text/plain": [
       "         account  is_hcad_equity_comp  is_hcad_sale_comp  is_zwicker_comp  \\\n",
       "5   931980000216                    1                  1                0   \n",
       "9   931980000240                    0                  0                1   \n",
       "1   931930000073                    1                  0                0   \n",
       "10  931990000274                    0                  1                0   \n",
       "7   931980000235                    1                  0                0   \n",
       "0   931920000058                    0                  0                0   \n",
       "3   931940000096                    0                  0                1   \n",
       "11  932000000311                    0                  0                1   \n",
       "4   931940000110                    0                  1                1   \n",
       "12  932020000340                    0                  1                0   \n",
       "2   931930000077                    0                  0                1   \n",
       "8   931980000238                    1                  0                0   \n",
       "6   931980000223                    0                  1                0   \n",
       "\n",
       "    is_subject        street_address  market_value_2022  market_value_2021  \\\n",
       "5            0     2203 BRIARPARK DR           678852.0           621462.0   \n",
       "9            0      10035 OLYMPIA DR           552187.0           464344.0   \n",
       "1            0   10034 WICKERSHAM LN           662002.0           481146.0   \n",
       "10           0      10030 OLYMPIA DR           658092.0           546250.0   \n",
       "7            0      10055 OLYMPIA DR           589338.0           580890.0   \n",
       "0            1   10027 WICKERSHAM LN           652735.0           414458.0   \n",
       "3            0    10022 OVERBROOK LN           527773.0           489863.0   \n",
       "11           0    10019 DEL MONTE DR           599505.0           516029.0   \n",
       "4            0     10027 ELLA LEE LN           567682.0           481455.0   \n",
       "12           0       10002 INWOOD DR           659540.0           514404.0   \n",
       "2            0   10050 WICKERSHAM LN           484889.0           433866.0   \n",
       "8            0      10043 OLYMPIA DR           575000.0           498353.0   \n",
       "6            0  10010 MEADOW LAKE LN           515514.0           499391.0   \n",
       "\n",
       "    new_construction_value_2022  change_in_market_value_2022  \\\n",
       "5                           0.0                      57390.0   \n",
       "9                           0.0                      87843.0   \n",
       "1                      148397.0                     180856.0   \n",
       "10                          0.0                     111842.0   \n",
       "7                           0.0                       8448.0   \n",
       "0                      174829.0                     238277.0   \n",
       "3                           0.0                      37910.0   \n",
       "11                          0.0                      83476.0   \n",
       "4                           0.0                      86227.0   \n",
       "12                          0.0                     145136.0   \n",
       "2                           0.0                      51023.0   \n",
       "8                           0.0                      76647.0   \n",
       "6                           0.0                      16123.0   \n",
       "\n",
       "    pct_change_in_market_value_2022  \\\n",
       "5                          0.092347   \n",
       "9                          0.189177   \n",
       "1                          0.375886   \n",
       "10                         0.204745   \n",
       "7                          0.014543   \n",
       "0                          0.574912   \n",
       "3                          0.077389   \n",
       "11                         0.161766   \n",
       "4                          0.179097   \n",
       "12                         0.282144   \n",
       "2                          0.117601   \n",
       "8                          0.153801   \n",
       "6                          0.032285   \n",
       "\n",
       "    new_construction_pct_total_prior_market_value_2022  \\\n",
       "5                                            0.000000    \n",
       "9                                            0.000000    \n",
       "1                                            0.308424    \n",
       "10                                           0.000000    \n",
       "7                                            0.000000    \n",
       "0                                            0.421826    \n",
       "3                                            0.000000    \n",
       "11                                           0.000000    \n",
       "4                                            0.000000    \n",
       "12                                           0.000000    \n",
       "2                                            0.000000    \n",
       "8                                            0.000000    \n",
       "6                                            0.000000    \n",
       "\n",
       "    new_construction_pct_change_in_market_value_2022  market_value_2023  \\\n",
       "5                                           0.000000           624000.0   \n",
       "9                                           0.000000           541995.0   \n",
       "1                                           0.820526           705486.0   \n",
       "10                                          0.000000           707056.0   \n",
       "7                                           0.000000           644172.0   \n",
       "0                                           0.733722           715818.0   \n",
       "3                                           0.000000           585726.0   \n",
       "11                                          0.000000           679428.0   \n",
       "4                                           0.000000           649335.0   \n",
       "12                                          0.000000           803646.0   \n",
       "2                                           0.000000           600654.0   \n",
       "8                                           0.000000           737634.0   \n",
       "6                                           0.000000           668697.0   \n",
       "\n",
       "    market_value_pct_change_2023  \n",
       "5                      -0.080801  \n",
       "9                      -0.018458  \n",
       "1                       0.065686  \n",
       "10                      0.074403  \n",
       "7                       0.093043  \n",
       "0                       0.096644  \n",
       "3                       0.109807  \n",
       "11                      0.133315  \n",
       "4                       0.143836  \n",
       "12                      0.218495  \n",
       "2                       0.238745  \n",
       "8                       0.282842  \n",
       "6                       0.297146  "
      ]
     },
     "execution_count": 175,
     "metadata": {},
     "output_type": "execute_result"
    }
   ],
   "source": [
    "comp_df.sort_values(by=['market_value_pct_change_2023'])"
   ]
  },
  {
   "cell_type": "code",
   "execution_count": null,
   "metadata": {},
   "outputs": [],
   "source": []
  }
 ],
 "metadata": {
  "kernelspec": {
   "display_name": "Python 3",
   "language": "python",
   "name": "python3"
  },
  "language_info": {
   "codemirror_mode": {
    "name": "ipython",
    "version": 3
   },
   "file_extension": ".py",
   "mimetype": "text/x-python",
   "name": "python",
   "nbconvert_exporter": "python",
   "pygments_lexer": "ipython3",
   "version": "3.9.0"
  },
  "orig_nbformat": 4
 },
 "nbformat": 4,
 "nbformat_minor": 2
}
